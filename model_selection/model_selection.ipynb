{
 "cells": [
  {
   "cell_type": "markdown",
   "id": "95e4bbad-d181-481a-8f03-e26d16be7536",
   "metadata": {},
   "source": [
    "# Imports"
   ]
  },
  {
   "cell_type": "code",
   "execution_count": 1,
   "id": "129ec640-9975-4fa8-9149-6e6a888a1f0b",
   "metadata": {},
   "outputs": [],
   "source": [
    "import numpy as np\n",
    "import pandas as pd\n",
    "from sklearn.metrics import mean_squared_error, root_mean_squared_error, median_absolute_error, mean_absolute_error\n",
    "from sklearn.model_selection import train_test_split"
   ]
  },
  {
   "cell_type": "code",
   "execution_count": 2,
   "id": "f6f210c4-297c-43d9-8845-5fff85a32e51",
   "metadata": {},
   "outputs": [],
   "source": [
    "import sys\n",
    "sys.path.append('..')\n",
    "from utils.estimators import *"
   ]
  },
  {
   "cell_type": "code",
   "execution_count": 3,
   "id": "e470e14a-621f-49b2-8a6c-7c6c42993309",
   "metadata": {},
   "outputs": [],
   "source": [
    "pd.options.mode.chained_assignment = None"
   ]
  },
  {
   "cell_type": "markdown",
   "id": "95f5ded8-6d74-44d0-8e9c-acb2f6a95b9a",
   "metadata": {},
   "source": [
    "# Load data"
   ]
  },
  {
   "cell_type": "code",
   "execution_count": 4,
   "id": "409084b0-943a-4481-9020-45052250b2c8",
   "metadata": {},
   "outputs": [],
   "source": [
    "df = pd.read_csv('../processed_data/england_wales.csv')"
   ]
  },
  {
   "cell_type": "code",
   "execution_count": 5,
   "id": "ba123aa2-e136-474e-b64c-f513d302fcc3",
   "metadata": {},
   "outputs": [],
   "source": [
    "yob_order = (y := sorted(df['yob'].unique()))[-1:] + y[:-1]"
   ]
  },
  {
   "cell_type": "code",
   "execution_count": 6,
   "id": "3b9847bc-a242-4683-a040-1862fff3545d",
   "metadata": {},
   "outputs": [],
   "source": [
    "df['yob'] = pd.Categorical(df['yob'], categories=yob_order)"
   ]
  },
  {
   "cell_type": "code",
   "execution_count": 7,
   "id": "7a93dcbb-f66b-4ce2-9727-2fd22feea040",
   "metadata": {},
   "outputs": [],
   "source": [
    "df.sort_values('yob', inplace=True)"
   ]
  },
  {
   "cell_type": "code",
   "execution_count": 8,
   "id": "d4d308a5-385a-486d-89c4-a79893fdbfc3",
   "metadata": {},
   "outputs": [],
   "source": [
    "religion_cols = sorted(df['religion'].unique())"
   ]
  },
  {
   "cell_type": "code",
   "execution_count": 9,
   "id": "defb8a1c-6247-4cba-b53e-101c8c512424",
   "metadata": {},
   "outputs": [],
   "source": [
    "qwe = df.pivot_table(\n",
    "    index=['census_year', 'sex', 'yob', 'geo_code'],\n",
    "    columns='religion',\n",
    "    values='population',\n",
    "    aggfunc='sum',\n",
    "    observed=True,\n",
    ")"
   ]
  },
  {
   "cell_type": "markdown",
   "id": "8641958d-bf4b-4af7-b32a-d9dbdda738ed",
   "metadata": {},
   "source": [
    "# Holdout a test set"
   ]
  },
  {
   "cell_type": "code",
   "execution_count": 10,
   "id": "3ba359f9-24b6-495b-9384-aac9a784e852",
   "metadata": {},
   "outputs": [],
   "source": [
    "np.random.seed(808)\n",
    "geo_codes = df['geo_code'].unique()\n",
    "test_geo_codes = pd.Series(geo_codes).sample(len(geo_codes) // 2)"
   ]
  },
  {
   "cell_type": "markdown",
   "id": "76ed71af-12ee-45bf-ac37-7f909b16e253",
   "metadata": {},
   "source": [
    "# Build train and validate sets for over tens"
   ]
  },
  {
   "cell_type": "markdown",
   "id": "3c7e002e-b6e6-42c5-adb6-210f8a2a4ced",
   "metadata": {},
   "source": [
    "## Add a test flag"
   ]
  },
  {
   "cell_type": "code",
   "execution_count": 11,
   "id": "713e4015-f2d5-4e20-a175-7883874590a2",
   "metadata": {},
   "outputs": [],
   "source": [
    "qwe['test_flag'] = qwe.index.get_level_values('geo_code').isin(test_geo_codes)"
   ]
  },
  {
   "cell_type": "code",
   "execution_count": 12,
   "id": "3c9a74fe-b2e0-4ce9-b53b-20dc5ddfc121",
   "metadata": {},
   "outputs": [],
   "source": [
    "qwe['train_X'] = (qwe.index.get_level_values('census_year') == 2001) & (~qwe['test_flag'])\n",
    "qwe['train_Y'] = (qwe.index.get_level_values('census_year') == 2011) & (~qwe['test_flag'])\n",
    "qwe['train_Z'] = (qwe.index.get_level_values('census_year') == 2021) & (~qwe['test_flag'])"
   ]
  },
  {
   "cell_type": "code",
   "execution_count": 13,
   "id": "4a1f382c-f98d-4082-b432-19e4217cda34",
   "metadata": {},
   "outputs": [],
   "source": [
    "qwe['test_X'] = (qwe.index.get_level_values('census_year') == 2001) & (qwe['test_flag'])\n",
    "qwe['test_Y'] = (qwe.index.get_level_values('census_year') == 2011) & (qwe['test_flag'])\n",
    "qwe['test_Z'] = (qwe.index.get_level_values('census_year') == 2021) & (qwe['test_flag'])"
   ]
  },
  {
   "cell_type": "markdown",
   "id": "c544e189-ca48-4ab7-88bd-6d1c53982272",
   "metadata": {},
   "source": [
    "## Add age_as_of columns"
   ]
  },
  {
   "cell_type": "markdown",
   "id": "212723c1-502f-4051-8d6b-a816061aa9e6",
   "metadata": {},
   "source": [
    "### 2001"
   ]
  },
  {
   "cell_type": "code",
   "execution_count": 14,
   "id": "f9965f92-20cd-4582-acd5-bd7e4a41e538",
   "metadata": {},
   "outputs": [],
   "source": [
    "age_bands_2001 = dict(df.loc[df['census_year'] == 2001, ['yob', 'age_band']].drop_duplicates().values)\n",
    "age_bands_2001['pre-1927'] = '75+'\n",
    "\n",
    "qwe['age_2001'] = pd.Categorical(\n",
    "    qwe.index.get_level_values('yob').map(age_bands_2001),\n",
    ")"
   ]
  },
  {
   "cell_type": "markdown",
   "id": "1214edd7-1c7c-4658-ac02-ca490a27a39d",
   "metadata": {},
   "source": [
    "### 2011"
   ]
  },
  {
   "cell_type": "code",
   "execution_count": 15,
   "id": "63b09cb8-965c-48c3-9eac-986d2a53ac42",
   "metadata": {},
   "outputs": [],
   "source": [
    "age_bands_2011 = dict(df.loc[df['census_year'] == 2011, ['yob', 'age_band']].drop_duplicates().values)\n",
    "age_bands_2011['pre-1927'] = '75+'\n",
    "age_bands_2011['1927-1931'] = '75+'\n",
    "age_bands_2011['1932-1936'] = '75+'\n",
    "\n",
    "qwe['age_2011'] = pd.Categorical(\n",
    "    qwe.index.get_level_values('yob').map(age_bands_2011),\n",
    "    categories=qwe['age_2001'].cat.categories\n",
    ")"
   ]
  },
  {
   "cell_type": "markdown",
   "id": "063e2391-859d-4324-a189-4b710dc931db",
   "metadata": {},
   "source": [
    "### 2021"
   ]
  },
  {
   "cell_type": "code",
   "execution_count": 16,
   "id": "f6f6021a-afe7-456a-a672-07cadb3e9190",
   "metadata": {},
   "outputs": [],
   "source": [
    "age_bands_2021 = dict(df.loc[df['census_year'] == 2021, ['yob', 'age_band']].drop_duplicates().values)\n",
    "age_bands_2021['pre-1927'] = '85+'\n",
    "age_bands_2021['1927-1931'] = '85+'\n",
    "age_bands_2021['1932-1936'] = '85+'\n",
    "\n",
    "qwe['age_2021'] = pd.Categorical(\n",
    "    qwe.index.get_level_values('yob').map(age_bands_2021),\n",
    "    categories=sorted(pd.Series(age_bands_2021.values()).unique())\n",
    ")"
   ]
  },
  {
   "cell_type": "markdown",
   "id": "4de469cc-b892-431f-8c63-7d58bc88ea8e",
   "metadata": {},
   "source": [
    "## Build datasets"
   ]
  },
  {
   "cell_type": "code",
   "execution_count": 17,
   "id": "7cb3a5a6-9d55-4bd4-908e-f8e7e8f98307",
   "metadata": {},
   "outputs": [],
   "source": [
    "df_train_X = qwe.loc[qwe['train_X']].groupby(['sex', 'age_2001', 'geo_code'], observed=True)[religion_cols].sum().apply(lambda x:x/x.sum(), axis='columns')\n",
    "df_train_Y = qwe.loc[qwe['train_Y']].groupby(['sex', 'age_2001', 'geo_code'], observed=True)[religion_cols].sum().apply(lambda x:x/x.sum(), axis='columns')\n",
    "df_valid_Y = qwe.loc[qwe['train_Y']].groupby(['sex', 'age_2011', 'geo_code'], observed=True)[religion_cols].sum().apply(lambda x:x/x.sum(), axis='columns')\n",
    "df_valid_Z = qwe.loc[qwe['train_Z']].groupby(['sex', 'age_2011', 'geo_code'], observed=True)[religion_cols].sum().apply(lambda x:x/x.sum(), axis='columns')\n",
    "\n",
    "assert df_train_X.index.equals(df_train_Y.index)\n",
    "assert df_valid_Y.index.equals(df_valid_Z.index)"
   ]
  },
  {
   "cell_type": "markdown",
   "id": "5c488afd-2592-449b-8d9e-933ce42d1763",
   "metadata": {},
   "source": [
    "# Fit models"
   ]
  },
  {
   "cell_type": "code",
   "execution_count": 18,
   "id": "0b5cfec4-64b8-4836-81c0-c2a770642481",
   "metadata": {},
   "outputs": [],
   "source": [
    "estimators = [\n",
    "    LinearTrendEstimator,\n",
    "    ExponentialEstimator,\n",
    "    # OddsMultiplierEstimator,\n",
    "    # TransitionMatrixEstimator,\n",
    "    BasicTransitionMatrixEstimator,\n",
    "    IndividualLinearEstimator,\n",
    "    IndividualExponentialEstimator,\n",
    "    # IndividualOddsRatioEstimator,\n",
    "    IndividualBasicTransitionMatrixEstimator,\n",
    "]"
   ]
  },
  {
   "cell_type": "code",
   "execution_count": 19,
   "id": "c4b4ec70-942b-4965-9ec5-4a9e9123d343",
   "metadata": {},
   "outputs": [],
   "source": [
    "preds = []\n",
    "estimator_names = []\n",
    "\n",
    "for est in estimators:\n",
    "    estimator_names.append(est.__name__)\n",
    "    preds.append(est().fit(df_train_X, df_train_Y).predict(df_valid_Y).values.flatten())"
   ]
  },
  {
   "cell_type": "code",
   "execution_count": 20,
   "id": "d6c1cf38-26ee-4abd-81e3-e8b662d66d50",
   "metadata": {},
   "outputs": [
    {
     "data": {
      "text/plain": [
       "(47520, 6)"
      ]
     },
     "execution_count": 20,
     "metadata": {},
     "output_type": "execute_result"
    }
   ],
   "source": [
    "preds = np.stack(preds, axis=-1)\n",
    "preds.shape"
   ]
  },
  {
   "cell_type": "code",
   "execution_count": 21,
   "id": "3727bfed-7b81-4050-8e17-a10e430e801a",
   "metadata": {},
   "outputs": [
    {
     "data": {
      "text/plain": [
       "(47520,)"
      ]
     },
     "execution_count": 21,
     "metadata": {},
     "output_type": "execute_result"
    }
   ],
   "source": [
    "actuals = df_valid_Z.values.flatten()\n",
    "actuals.shape"
   ]
  },
  {
   "cell_type": "markdown",
   "id": "082be6b2-ff4c-48ad-97e8-27c278bf128f",
   "metadata": {},
   "source": [
    "## Build an ensemble which minimises error on the validation set"
   ]
  },
  {
   "cell_type": "code",
   "execution_count": 22,
   "id": "7bdc7365-32e0-4ce8-9dd3-38abd55ac5ff",
   "metadata": {},
   "outputs": [],
   "source": [
    "# Function to minimise MSE\n",
    "def mse_loss(weights):\n",
    "    weighted_preds = np.dot(preds, weights)\n",
    "    return mean_squared_error(actuals, weighted_preds)\n",
    "\n",
    "# Constraints: weights must sum to 1\n",
    "constraints = {'type': 'eq', 'fun': lambda w: np.sum(w) - 1}\n",
    "bounds = [(0, 1)] * preds.shape[1]  # Each weight between 0 and 1\n",
    "initial_weights = np.ones(preds.shape[1]) / preds.shape[1]  # Equal starting weights\n",
    "\n",
    "# Optimisation\n",
    "result = minimize(mse_loss, initial_weights, bounds=bounds, constraints=constraints)\n",
    "optimal_weights = result.x\n",
    "\n",
    "# Compute final weighted predictions\n",
    "ensemble_preds_weighted = np.dot(preds, optimal_weights)"
   ]
  },
  {
   "cell_type": "code",
   "execution_count": 23,
   "id": "ceaff297-f47d-4112-afd3-c03fecf50d5c",
   "metadata": {},
   "outputs": [],
   "source": [
    "optimal_weights = pd.Series(optimal_weights, index=estimator_names).rename('Model Weight').to_frame()\n",
    "optimal_weights.index = optimal_weights.index.rename('Estimator')"
   ]
  },
  {
   "cell_type": "code",
   "execution_count": 24,
   "id": "9732f47e-a1ab-40da-9cda-ab1db2ea8aad",
   "metadata": {},
   "outputs": [
    {
     "data": {
      "text/html": [
       "<div>\n",
       "<style scoped>\n",
       "    .dataframe tbody tr th:only-of-type {\n",
       "        vertical-align: middle;\n",
       "    }\n",
       "\n",
       "    .dataframe tbody tr th {\n",
       "        vertical-align: top;\n",
       "    }\n",
       "\n",
       "    .dataframe thead th {\n",
       "        text-align: right;\n",
       "    }\n",
       "</style>\n",
       "<table border=\"1\" class=\"dataframe\">\n",
       "  <thead>\n",
       "    <tr style=\"text-align: right;\">\n",
       "      <th></th>\n",
       "      <th>Model Weight</th>\n",
       "    </tr>\n",
       "    <tr>\n",
       "      <th>Estimator</th>\n",
       "      <th></th>\n",
       "    </tr>\n",
       "  </thead>\n",
       "  <tbody>\n",
       "    <tr>\n",
       "      <th>LinearTrendEstimator</th>\n",
       "      <td>0.033400</td>\n",
       "    </tr>\n",
       "    <tr>\n",
       "      <th>ExponentialEstimator</th>\n",
       "      <td>0.107208</td>\n",
       "    </tr>\n",
       "    <tr>\n",
       "      <th>BasicTransitionMatrixEstimator</th>\n",
       "      <td>0.000000</td>\n",
       "    </tr>\n",
       "    <tr>\n",
       "      <th>IndividualLinearEstimator</th>\n",
       "      <td>0.290923</td>\n",
       "    </tr>\n",
       "    <tr>\n",
       "      <th>IndividualExponentialEstimator</th>\n",
       "      <td>0.355209</td>\n",
       "    </tr>\n",
       "    <tr>\n",
       "      <th>IndividualBasicTransitionMatrixEstimator</th>\n",
       "      <td>0.213260</td>\n",
       "    </tr>\n",
       "  </tbody>\n",
       "</table>\n",
       "</div>"
      ],
      "text/plain": [
       "                                          Model Weight\n",
       "Estimator                                             \n",
       "LinearTrendEstimator                          0.033400\n",
       "ExponentialEstimator                          0.107208\n",
       "BasicTransitionMatrixEstimator                0.000000\n",
       "IndividualLinearEstimator                     0.290923\n",
       "IndividualExponentialEstimator                0.355209\n",
       "IndividualBasicTransitionMatrixEstimator      0.213260"
      ]
     },
     "execution_count": 24,
     "metadata": {},
     "output_type": "execute_result"
    }
   ],
   "source": [
    "optimal_weights"
   ]
  },
  {
   "cell_type": "code",
   "execution_count": 25,
   "id": "530af0e7-caef-49f7-abb2-461e9f51c59e",
   "metadata": {},
   "outputs": [],
   "source": [
    "optimal_weights.to_csv('optimal_weights_for_over_10_model.csv')"
   ]
  },
  {
   "cell_type": "markdown",
   "id": "8dd2e7c7-3ae9-41d5-8f04-21021f6eaf9f",
   "metadata": {},
   "source": [
    "# Make predictions on test set for over tens"
   ]
  },
  {
   "cell_type": "markdown",
   "id": "dc3ab6ef-6cd4-46a6-89c4-45e52080947f",
   "metadata": {},
   "source": [
    "## Build datasets"
   ]
  },
  {
   "cell_type": "code",
   "execution_count": 26,
   "id": "4e90ebda-a90e-460f-8633-26e808296b10",
   "metadata": {},
   "outputs": [],
   "source": [
    "df_test_fit_X = qwe.loc[qwe['test_X']].groupby(['sex', 'age_2001', 'geo_code'], observed=True)[religion_cols].sum().apply(lambda x:x/x.sum(), axis='columns')\n",
    "df_test_fit_Y = qwe.loc[qwe['test_Y']].groupby(['sex', 'age_2001', 'geo_code'], observed=True)[religion_cols].sum().apply(lambda x:x/x.sum(), axis='columns')\n",
    "df_test_predict_Y = qwe.loc[qwe['test_Y']].groupby(['sex', 'age_2011', 'geo_code'], observed=True)[religion_cols].sum().apply(lambda x:x/x.sum(), axis='columns')\n",
    "df_test_predict_Z = qwe.loc[qwe['test_Z']].groupby(['sex', 'age_2011', 'geo_code'], observed=True)[religion_cols].sum().apply(lambda x:x/x.sum(), axis='columns')\n",
    "\n",
    "assert df_test_fit_X.index.equals(df_test_fit_Y.index)\n",
    "assert df_test_predict_Y.index.equals(df_test_predict_Z.index)"
   ]
  },
  {
   "cell_type": "markdown",
   "id": "b736f2a1-55f8-40d6-b2ac-47088153cd0b",
   "metadata": {},
   "source": [
    "## Make predictions"
   ]
  },
  {
   "cell_type": "code",
   "execution_count": 27,
   "id": "b4acf1db-ee57-4709-968f-2e5e9890bfb7",
   "metadata": {},
   "outputs": [],
   "source": [
    "test_preds = []\n",
    "\n",
    "for est in estimators:\n",
    "    test_preds.append(est().fit(df_test_fit_X, df_test_fit_Y).predict(df_test_predict_Y).values.flatten())"
   ]
  },
  {
   "cell_type": "code",
   "execution_count": 28,
   "id": "1bf8fe17-5be1-4838-b1df-457327d4cdfe",
   "metadata": {},
   "outputs": [],
   "source": [
    "test_preds = np.stack(test_preds, axis=-1)\n",
    "test_actuals = df_test_predict_Z.values.flatten()\n",
    "test_preds_weighted = np.dot(test_preds, optimal_weights)"
   ]
  },
  {
   "cell_type": "markdown",
   "id": "debc58b3-0faf-437e-a6a5-dec4fd505fd1",
   "metadata": {},
   "source": [
    "### Evaluate local predictions"
   ]
  },
  {
   "cell_type": "code",
   "execution_count": 29,
   "id": "548357aa-de17-4602-9c4b-6eb418f6d941",
   "metadata": {},
   "outputs": [
    {
     "name": "stdout",
     "output_type": "stream",
     "text": [
      "Root Mean Squared Error: 2.09%\n",
      "Mean Absolute Error: 1.06%\n"
     ]
    }
   ],
   "source": [
    "print('Root Mean Squared Error:', f'{root_mean_squared_error(test_actuals, test_preds_weighted):.2%}')\n",
    "print('Mean Absolute Error:', f'{mean_absolute_error(test_actuals, test_preds_weighted):.2%}')"
   ]
  },
  {
   "cell_type": "markdown",
   "id": "1c926cde-80cc-46b2-b864-33940d1b1db9",
   "metadata": {},
   "source": [
    "### Evaluate national bias of predictions"
   ]
  },
  {
   "cell_type": "code",
   "execution_count": 30,
   "id": "10739d72-0620-41c6-95e9-351f6dd58cab",
   "metadata": {},
   "outputs": [
    {
     "data": {
      "text/html": [
       "<style type=\"text/css\">\n",
       "</style>\n",
       "<table id=\"T_25d23\">\n",
       "  <thead>\n",
       "    <tr>\n",
       "      <th class=\"blank level0\" >&nbsp;</th>\n",
       "      <th id=\"T_25d23_level0_col0\" class=\"col_heading level0 col0\" >Mean Error</th>\n",
       "    </tr>\n",
       "    <tr>\n",
       "      <th class=\"index_name level0\" >religion</th>\n",
       "      <th class=\"blank col0\" >&nbsp;</th>\n",
       "    </tr>\n",
       "  </thead>\n",
       "  <tbody>\n",
       "    <tr>\n",
       "      <th id=\"T_25d23_level0_row0\" class=\"row_heading level0 row0\" >Buddhist</th>\n",
       "      <td id=\"T_25d23_row0_col0\" class=\"data row0 col0\" >0.08%</td>\n",
       "    </tr>\n",
       "    <tr>\n",
       "      <th id=\"T_25d23_level0_row1\" class=\"row_heading level0 row1\" >Christian</th>\n",
       "      <td id=\"T_25d23_row1_col0\" class=\"data row1 col0\" >0.40%</td>\n",
       "    </tr>\n",
       "    <tr>\n",
       "      <th id=\"T_25d23_level0_row2\" class=\"row_heading level0 row2\" >Hindu</th>\n",
       "      <td id=\"T_25d23_row2_col0\" class=\"data row2 col0\" >-0.01%</td>\n",
       "    </tr>\n",
       "    <tr>\n",
       "      <th id=\"T_25d23_level0_row3\" class=\"row_heading level0 row3\" >Jewish</th>\n",
       "      <td id=\"T_25d23_row3_col0\" class=\"data row3 col0\" >-0.07%</td>\n",
       "    </tr>\n",
       "    <tr>\n",
       "      <th id=\"T_25d23_level0_row4\" class=\"row_heading level0 row4\" >Muslim</th>\n",
       "      <td id=\"T_25d23_row4_col0\" class=\"data row4 col0\" >-0.01%</td>\n",
       "    </tr>\n",
       "    <tr>\n",
       "      <th id=\"T_25d23_level0_row5\" class=\"row_heading level0 row5\" >No religion</th>\n",
       "      <td id=\"T_25d23_row5_col0\" class=\"data row5 col0\" >-1.23%</td>\n",
       "    </tr>\n",
       "    <tr>\n",
       "      <th id=\"T_25d23_level0_row6\" class=\"row_heading level0 row6\" >Not answered</th>\n",
       "      <td id=\"T_25d23_row6_col0\" class=\"data row6 col0\" >0.96%</td>\n",
       "    </tr>\n",
       "    <tr>\n",
       "      <th id=\"T_25d23_level0_row7\" class=\"row_heading level0 row7\" >Other religion</th>\n",
       "      <td id=\"T_25d23_row7_col0\" class=\"data row7 col0\" >-0.04%</td>\n",
       "    </tr>\n",
       "    <tr>\n",
       "      <th id=\"T_25d23_level0_row8\" class=\"row_heading level0 row8\" >Sikh</th>\n",
       "      <td id=\"T_25d23_row8_col0\" class=\"data row8 col0\" >-0.08%</td>\n",
       "    </tr>\n",
       "  </tbody>\n",
       "</table>\n"
      ],
      "text/plain": [
       "<pandas.io.formats.style.Styler at 0x12acefb10>"
      ]
     },
     "execution_count": 30,
     "metadata": {},
     "output_type": "execute_result"
    }
   ],
   "source": [
    "(pd.DataFrame(\n",
    "    test_preds_weighted.reshape(-1, 9),\n",
    "    df_test_predict_Y.index,\n",
    "    df_test_predict_Y.columns,\n",
    ") - df_test_predict_Z).mean().rename('Mean Error').to_frame().style.format('{:.2%}')"
   ]
  },
  {
   "cell_type": "markdown",
   "id": "75d73c2e-902e-4583-a890-e2168f423dd9",
   "metadata": {},
   "source": [
    "# Under tens\n",
    " - I need four models: (sex x 2) * (age_band x 2)\n",
    " - Try a variety of predictor datasets including 2011 actuals and 2021 predictions\n",
    " - Try every model type\n",
    " - Pick the best according to rmse"
   ]
  },
  {
   "cell_type": "code",
   "execution_count": 31,
   "id": "4aba39b2-2c42-4523-9fd0-e0ef04daa676",
   "metadata": {},
   "outputs": [],
   "source": [
    "u10_child_age_bands = ['0-4', '5-9']\n",
    "u10_parent_age_bands = ['10-14', '15-19', '20-24', '25-29', '30-34', '35-39', '40-44']\n",
    "u10_age_bands = u10_child_age_bands + u10_parent_age_bands"
   ]
  },
  {
   "cell_type": "markdown",
   "id": "455235cb-c0c1-4be8-bb73-a33cd2a935ad",
   "metadata": {},
   "source": [
    "## Create training and validation datasets"
   ]
  },
  {
   "cell_type": "code",
   "execution_count": 32,
   "id": "cd60e530-8d28-4897-9e57-022cd76f054f",
   "metadata": {},
   "outputs": [],
   "source": [
    "u10_train_X = {}\n",
    "u10_train_Y = {}\n",
    "u10_valid_Z = {}\n",
    "\n",
    "for ab in u10_parent_age_bands:\n",
    "    u10_train_X[ab] = qwe.loc[(qwe['train_X']) & (qwe['age_2001'] == ab)].groupby(['sex', 'geo_code'], observed=True)[religion_cols].sum().apply(lambda x:x/x.sum(), axis='columns')\n",
    "\n",
    "for ab in u10_age_bands:\n",
    "    u10_train_Y[ab] = qwe.loc[(qwe['train_Y']) & (qwe['age_2011'] == ab)].groupby(['sex', 'geo_code'], observed=True)[religion_cols].sum().apply(lambda x:x/x.sum(), axis='columns')\n",
    "\n",
    "for ab in u10_child_age_bands:\n",
    "    u10_valid_Z[ab] = qwe.loc[(qwe['train_Z']) & (qwe['age_2021'] == ab)].groupby(['sex', 'geo_code'], observed=True)[religion_cols].sum().apply(lambda x:x/x.sum(), axis='columns')"
   ]
  },
  {
   "cell_type": "markdown",
   "id": "ec1ca33f-bf34-4ad5-91e3-ed6c345d93f6",
   "metadata": {},
   "source": [
    "## Train models"
   ]
  },
  {
   "cell_type": "code",
   "execution_count": 33,
   "id": "e0d5d33a-c28b-4a43-9cc0-f2674097852a",
   "metadata": {},
   "outputs": [],
   "source": [
    "u10_models = {}\n",
    "\n",
    "for sex_of_child in ['female', 'male']:\n",
    "    for age_of_child in u10_child_age_bands:\n",
    "        for sex_of_parent in ['female', 'male']:\n",
    "            for age_of_parent in u10_parent_age_bands:\n",
    "                for est_class in estimators:\n",
    "                    \n",
    "                    # direct\n",
    "                    key = ('direct', sex_of_child, age_of_child, sex_of_parent, age_of_parent, est_class.__name__)\n",
    "                    u10_models[key] = est_class().fit(u10_train_X[age_of_parent].loc[sex_of_parent], u10_train_Y[age_of_child].loc[sex_of_child])\n",
    "\n",
    "                    # from over-10 predictions\n",
    "                    # if age_of_parent not in ['15-19', '20-24']:\n",
    "                    key = ('via_preds', *key[1:])\n",
    "                    u10_models[key] = est_class().fit(u10_train_Y[age_of_parent].loc[sex_of_parent], u10_train_Y[age_of_child].loc[sex_of_child])"
   ]
  },
  {
   "cell_type": "code",
   "execution_count": 34,
   "id": "e3a6b6cd-82ae-437f-9e8d-a11834e90d2e",
   "metadata": {},
   "outputs": [
    {
     "data": {
      "text/plain": [
       "672"
      ]
     },
     "execution_count": 34,
     "metadata": {},
     "output_type": "execute_result"
    }
   ],
   "source": [
    "len(u10_models)"
   ]
  },
  {
   "cell_type": "markdown",
   "id": "d76e40b5-2d4b-4466-9e40-532483773f72",
   "metadata": {},
   "source": [
    "## Make predictions and validate them"
   ]
  },
  {
   "cell_type": "markdown",
   "id": "12b31720-dfdc-40da-8594-132ed9ca398c",
   "metadata": {},
   "source": [
    "### Use the predictions of parent religion from the over ten ensemble model"
   ]
  },
  {
   "cell_type": "code",
   "execution_count": 35,
   "id": "1f5a3408-672e-4ae1-a86e-98a4950da1f9",
   "metadata": {},
   "outputs": [],
   "source": [
    "ages_2011 = ['0-4','5-9',\n",
    "             '10-14','15-19','20-24','25-29','30-34','35-39','40-44',\n",
    "             '45-49','50-54','55-59','60-64','65-69','70-74']\n",
    "\n",
    "age_2021_from_age_2011 = {a: f'{int(a.split(\"-\")[0]) + 10}-{int(a.split(\"-\")[1]) + 10}' for a in ages_2011}\n",
    "age_2021_from_age_2011['75+'] = '85+'"
   ]
  },
  {
   "cell_type": "code",
   "execution_count": 36,
   "id": "198f692d-4073-4a29-8581-6105c6760fd0",
   "metadata": {},
   "outputs": [],
   "source": [
    "u10_2021_preds = pd.DataFrame(\n",
    "    ensemble_preds_weighted.reshape(-1,9),\n",
    "    index=df_valid_Y.index,\n",
    "    columns=df_valid_Y.columns\n",
    ")\n",
    "\n",
    "u10_2021_preds = u10_2021_preds.reset_index()\n",
    "u10_2021_preds = u10_2021_preds[u10_2021_preds['age_2011'].isin(u10_parent_age_bands)]\n",
    "\n",
    "# parents are now 10 years older\n",
    "u10_2021_preds['age_2021'] = u10_2021_preds['age_2011'].map(age_2021_from_age_2011)\n",
    "u10_2021_preds = u10_2021_preds.set_index(['sex', 'age_2021', 'geo_code']).drop(columns='age_2011')"
   ]
  },
  {
   "cell_type": "markdown",
   "id": "7f0b09ae-31ed-4270-83b5-4ea3b2e28d60",
   "metadata": {},
   "source": [
    "### Predict child religion"
   ]
  },
  {
   "cell_type": "code",
   "execution_count": 37,
   "id": "5c4c8432-f2a8-4dbb-804a-b222a8b93b68",
   "metadata": {},
   "outputs": [],
   "source": [
    "u10_predictions = {}\n",
    "u10_rmse = {}\n",
    "\n",
    "for sex_of_child in ['female', 'male']:\n",
    "    for age_of_child in u10_child_age_bands:\n",
    "        for sex_of_parent in ['female', 'male']:\n",
    "            for age_of_parent in u10_parent_age_bands:\n",
    "                for est_class in estimators:\n",
    "\n",
    "                    actuals = u10_valid_Z[age_of_child].loc[sex_of_child]\n",
    "                    \n",
    "                    # direct\n",
    "                    key = ('direct', sex_of_child, age_of_child, sex_of_parent, age_of_parent, est_class.__name__)\n",
    "                    preds = u10_models[key].predict(u10_train_Y[age_of_parent].loc[sex_of_parent])\n",
    "                    u10_predictions[key] = preds\n",
    "                    u10_rmse[key] = root_mean_squared_error(actuals, preds)\n",
    "        \n",
    "                    # from over-10 predictions\n",
    "                    if age_of_parent not in ['10-14', '15-19']:\n",
    "                        key = ('via_preds', *key[1:])\n",
    "                        preds = u10_models[key].predict(u10_2021_preds.loc[(sex_of_parent, age_of_parent)])\n",
    "                        u10_predictions[key] = preds\n",
    "                        u10_rmse[key] = root_mean_squared_error(actuals, preds)"
   ]
  },
  {
   "cell_type": "markdown",
   "id": "a89f8596-2119-4919-9d17-2750f7f10f34",
   "metadata": {},
   "source": [
    "### Evaluate"
   ]
  },
  {
   "cell_type": "code",
   "execution_count": 38,
   "id": "e48a4bfd-d43b-43e5-a03f-769fcc542b46",
   "metadata": {},
   "outputs": [],
   "source": [
    "results = pd.Series(u10_rmse).reset_index()\n",
    "results.columns = ['approach', 'sex_of_child', 'age_of_child', 'sex_of_parent', 'age_of_parent', 'estimator', 'rmse']"
   ]
  },
  {
   "cell_type": "code",
   "execution_count": 39,
   "id": "114e570d-1c50-4666-883e-e05babe65215",
   "metadata": {},
   "outputs": [
    {
     "data": {
      "text/html": [
       "<div>\n",
       "<style scoped>\n",
       "    .dataframe tbody tr th:only-of-type {\n",
       "        vertical-align: middle;\n",
       "    }\n",
       "\n",
       "    .dataframe tbody tr th {\n",
       "        vertical-align: top;\n",
       "    }\n",
       "\n",
       "    .dataframe thead th {\n",
       "        text-align: right;\n",
       "    }\n",
       "</style>\n",
       "<table border=\"1\" class=\"dataframe\">\n",
       "  <thead>\n",
       "    <tr style=\"text-align: right;\">\n",
       "      <th></th>\n",
       "      <th>approach</th>\n",
       "      <th>sex_of_child</th>\n",
       "      <th>age_of_child</th>\n",
       "      <th>sex_of_parent</th>\n",
       "      <th>age_of_parent</th>\n",
       "      <th>estimator</th>\n",
       "      <th>rmse</th>\n",
       "    </tr>\n",
       "  </thead>\n",
       "  <tbody>\n",
       "    <tr>\n",
       "      <th>63</th>\n",
       "      <td>via_preds</td>\n",
       "      <td>female</td>\n",
       "      <td>0-4</td>\n",
       "      <td>female</td>\n",
       "      <td>40-44</td>\n",
       "      <td>ExponentialEstimator</td>\n",
       "      <td>0.017442</td>\n",
       "    </tr>\n",
       "    <tr>\n",
       "      <th>215</th>\n",
       "      <td>via_preds</td>\n",
       "      <td>female</td>\n",
       "      <td>5-9</td>\n",
       "      <td>female</td>\n",
       "      <td>40-44</td>\n",
       "      <td>IndividualBasicTransitionMatrixEstimator</td>\n",
       "      <td>0.013471</td>\n",
       "    </tr>\n",
       "    <tr>\n",
       "      <th>351</th>\n",
       "      <td>via_preds</td>\n",
       "      <td>male</td>\n",
       "      <td>0-4</td>\n",
       "      <td>female</td>\n",
       "      <td>40-44</td>\n",
       "      <td>ExponentialEstimator</td>\n",
       "      <td>0.017065</td>\n",
       "    </tr>\n",
       "    <tr>\n",
       "      <th>503</th>\n",
       "      <td>via_preds</td>\n",
       "      <td>male</td>\n",
       "      <td>5-9</td>\n",
       "      <td>female</td>\n",
       "      <td>40-44</td>\n",
       "      <td>IndividualBasicTransitionMatrixEstimator</td>\n",
       "      <td>0.014451</td>\n",
       "    </tr>\n",
       "  </tbody>\n",
       "</table>\n",
       "</div>"
      ],
      "text/plain": [
       "      approach sex_of_child age_of_child sex_of_parent age_of_parent  \\\n",
       "63   via_preds       female          0-4        female         40-44   \n",
       "215  via_preds       female          5-9        female         40-44   \n",
       "351  via_preds         male          0-4        female         40-44   \n",
       "503  via_preds         male          5-9        female         40-44   \n",
       "\n",
       "                                    estimator      rmse  \n",
       "63                       ExponentialEstimator  0.017442  \n",
       "215  IndividualBasicTransitionMatrixEstimator  0.013471  \n",
       "351                      ExponentialEstimator  0.017065  \n",
       "503  IndividualBasicTransitionMatrixEstimator  0.014451  "
      ]
     },
     "execution_count": 39,
     "metadata": {},
     "output_type": "execute_result"
    }
   ],
   "source": [
    "best = results.sort_values(['sex_of_child', 'age_of_child', 'rmse']).groupby(['sex_of_child', 'age_of_child']).nth(0)\n",
    "best"
   ]
  },
  {
   "cell_type": "code",
   "execution_count": 40,
   "id": "944f4c7b-e521-4d02-bb50-41a24ded0832",
   "metadata": {},
   "outputs": [],
   "source": [
    "best.to_csv('optimal_under_10_models.csv', index=False)"
   ]
  },
  {
   "cell_type": "markdown",
   "id": "540536f9-b2c6-42bc-9a17-6c541a78d127",
   "metadata": {},
   "source": [
    "# Train and predict under ten models on test set"
   ]
  },
  {
   "cell_type": "code",
   "execution_count": 41,
   "id": "be884c2d-2c72-47b0-b91b-38c4132e6fc6",
   "metadata": {},
   "outputs": [],
   "source": [
    "u10_2021_test_preds = pd.DataFrame(\n",
    "    test_preds_weighted.reshape(-1,9),\n",
    "    index=df_test_predict_Y.index,\n",
    "    columns=df_test_predict_Y.columns\n",
    ").reset_index()\n",
    "\n",
    "# parents are now 10 years older\n",
    "u10_2021_test_preds['age_2021'] = u10_2021_test_preds['age_2011'].map(age_2021_from_age_2011)\n",
    "u10_2021_test_preds = u10_2021_test_preds.set_index(['sex', 'age_2021', 'geo_code']).drop(columns='age_2011')"
   ]
  },
  {
   "cell_type": "markdown",
   "id": "be76f40e-b523-418a-80da-4bb490c87b1e",
   "metadata": {},
   "source": [
    "## Make datasets"
   ]
  },
  {
   "cell_type": "code",
   "execution_count": 42,
   "id": "67f5a640-7ab0-47a9-b690-3cc7061b7d37",
   "metadata": {},
   "outputs": [],
   "source": [
    "u10_test_Y = {}\n",
    "u10_test_Z = {}\n",
    "\n",
    "for ab in u10_age_bands:\n",
    "    u10_test_Y[ab] = qwe.loc[(qwe['test_Y']) & (qwe['age_2011'] == ab)].groupby(['sex', 'geo_code'], observed=True)[religion_cols].sum().apply(lambda x:x/x.sum(), axis='columns')\n",
    "\n",
    "for ab in u10_child_age_bands:\n",
    "    u10_test_Z[ab] = qwe.loc[(qwe['test_Z']) & (qwe['age_2021'] == ab)].groupby(['sex', 'geo_code'], observed=True)[religion_cols].sum().apply(lambda x:x/x.sum(), axis='columns')"
   ]
  },
  {
   "cell_type": "markdown",
   "id": "eb2fd688-b381-41b7-873b-05da63dd5a40",
   "metadata": {},
   "source": [
    "## Make predictions"
   ]
  },
  {
   "cell_type": "code",
   "execution_count": 43,
   "id": "0a4e46b5-5424-4b85-a522-d3cede180e9b",
   "metadata": {},
   "outputs": [],
   "source": [
    "test_models = {}\n",
    "test_predictions = {}\n",
    "test_errors = {}\n",
    "\n",
    "cols = ['sex_of_child', 'age_of_child', 'sex_of_parent', 'age_of_parent', 'estimator']\n",
    "for _, (sex_of_child, age_of_child, sex_of_parent, age_of_parent, estimator) in best[cols].iterrows():\n",
    "    test_models[(sex_of_child, age_of_child)] = locals()[estimator]().fit(u10_test_Y[age_of_parent].loc[sex_of_parent], u10_test_Y[age_of_child].loc[sex_of_child])\n",
    "    \n",
    "    preds = test_models[(sex_of_child, age_of_child)].predict(u10_2021_test_preds.loc[(sex_of_parent, age_of_parent)])\n",
    "    test_predictions[(sex_of_child, age_of_child)] = preds\n",
    "    \n",
    "    actuals = u10_test_Z[age_of_child].loc[sex_of_child]\n",
    "    test_errors[(sex_of_child, age_of_child)] = preds - actuals"
   ]
  },
  {
   "cell_type": "code",
   "execution_count": 44,
   "id": "1fa9fb44-7342-4066-ab12-1471cd04477e",
   "metadata": {},
   "outputs": [],
   "source": [
    "# for k, v in test_errors.items():\n",
    "#     print(k, (v.values ** 2).mean() ** 0.5),\n",
    "#     display(v.mean())"
   ]
  },
  {
   "cell_type": "markdown",
   "id": "b1ad4837-2b9b-428a-91ef-97ae99a6ac24",
   "metadata": {},
   "source": [
    "## Combine with over 10 predictions"
   ]
  },
  {
   "cell_type": "code",
   "execution_count": 45,
   "id": "ca14a837-e67e-451c-9a95-bfb19d4afd1f",
   "metadata": {},
   "outputs": [],
   "source": [
    "for k in test_predictions:\n",
    "    test_predictions[k].index = pd.MultiIndex.from_product([[k[0]], [k[1]], test_predictions[k].index])\n",
    "\n",
    "test_predictions_2021 = pd.concat([*test_predictions.values(), u10_2021_test_preds]).sort_index()\n",
    "test_actuals_2021 = qwe[qwe['test_Z']].reset_index().groupby(['sex', 'age_2021', 'geo_code'], observed=True)[religion_cols].sum().apply(lambda x: x/x.sum(), axis='columns').sort_index()\n",
    "\n",
    "assert len(set(test_actuals_2021.index) ^ set(test_predictions_2021.index)) == 0\n",
    "test_predictions_2021.index.names = test_actuals_2021.index.names\n",
    "\n",
    "test_errors_2021 = test_predictions_2021 - test_actuals_2021"
   ]
  },
  {
   "cell_type": "markdown",
   "id": "e980db7a-f117-4512-a577-e742e28e5ba9",
   "metadata": {},
   "source": [
    "# Inspect errors"
   ]
  },
  {
   "cell_type": "code",
   "execution_count": 46,
   "id": "7ae497bf-4c84-4136-8599-3866b825566d",
   "metadata": {},
   "outputs": [
    {
     "data": {
      "text/html": [
       "<style type=\"text/css\">\n",
       "</style>\n",
       "<table id=\"T_e5960\">\n",
       "  <thead>\n",
       "    <tr>\n",
       "      <th class=\"blank level0\" >&nbsp;</th>\n",
       "      <th id=\"T_e5960_level0_col0\" class=\"col_heading level0 col0\" >Mean Error (bias)</th>\n",
       "      <th id=\"T_e5960_level0_col1\" class=\"col_heading level0 col1\" >Root Mean Squared Error</th>\n",
       "      <th id=\"T_e5960_level0_col2\" class=\"col_heading level0 col2\" >Mean Absolute Error</th>\n",
       "      <th id=\"T_e5960_level0_col3\" class=\"col_heading level0 col3\" >Median Absolute Error</th>\n",
       "      <th id=\"T_e5960_level0_col4\" class=\"col_heading level0 col4\" >5th percentile</th>\n",
       "      <th id=\"T_e5960_level0_col5\" class=\"col_heading level0 col5\" >95th percentile</th>\n",
       "    </tr>\n",
       "    <tr>\n",
       "      <th class=\"index_name level0\" >religion</th>\n",
       "      <th class=\"blank col0\" >&nbsp;</th>\n",
       "      <th class=\"blank col1\" >&nbsp;</th>\n",
       "      <th class=\"blank col2\" >&nbsp;</th>\n",
       "      <th class=\"blank col3\" >&nbsp;</th>\n",
       "      <th class=\"blank col4\" >&nbsp;</th>\n",
       "      <th class=\"blank col5\" >&nbsp;</th>\n",
       "    </tr>\n",
       "  </thead>\n",
       "  <tbody>\n",
       "    <tr>\n",
       "      <th id=\"T_e5960_level0_row0\" class=\"row_heading level0 row0\" >Buddhist</th>\n",
       "      <td id=\"T_e5960_row0_col0\" class=\"data row0 col0\" >0.08%</td>\n",
       "      <td id=\"T_e5960_row0_col1\" class=\"data row0 col1\" >0.44%</td>\n",
       "      <td id=\"T_e5960_row0_col2\" class=\"data row0 col2\" >0.28%</td>\n",
       "      <td id=\"T_e5960_row0_col3\" class=\"data row0 col3\" >0.19%</td>\n",
       "      <td id=\"T_e5960_row0_col4\" class=\"data row0 col4\" >-0.45%</td>\n",
       "      <td id=\"T_e5960_row0_col5\" class=\"data row0 col5\" >0.80%</td>\n",
       "    </tr>\n",
       "    <tr>\n",
       "      <th id=\"T_e5960_level0_row1\" class=\"row_heading level0 row1\" >Christian</th>\n",
       "      <td id=\"T_e5960_row1_col0\" class=\"data row1 col0\" >0.39%</td>\n",
       "      <td id=\"T_e5960_row1_col1\" class=\"data row1 col1\" >4.03%</td>\n",
       "      <td id=\"T_e5960_row1_col2\" class=\"data row1 col2\" >3.08%</td>\n",
       "      <td id=\"T_e5960_row1_col3\" class=\"data row1 col3\" >2.46%</td>\n",
       "      <td id=\"T_e5960_row1_col4\" class=\"data row1 col4\" >-5.07%</td>\n",
       "      <td id=\"T_e5960_row1_col5\" class=\"data row1 col5\" >7.58%</td>\n",
       "    </tr>\n",
       "    <tr>\n",
       "      <th id=\"T_e5960_level0_row2\" class=\"row_heading level0 row2\" >Hindu</th>\n",
       "      <td id=\"T_e5960_row2_col0\" class=\"data row2 col0\" >0.03%</td>\n",
       "      <td id=\"T_e5960_row2_col1\" class=\"data row2 col1\" >0.85%</td>\n",
       "      <td id=\"T_e5960_row2_col2\" class=\"data row2 col2\" >0.45%</td>\n",
       "      <td id=\"T_e5960_row2_col3\" class=\"data row2 col3\" >0.27%</td>\n",
       "      <td id=\"T_e5960_row2_col4\" class=\"data row2 col4\" >-0.74%</td>\n",
       "      <td id=\"T_e5960_row2_col5\" class=\"data row2 col5\" >1.22%</td>\n",
       "    </tr>\n",
       "    <tr>\n",
       "      <th id=\"T_e5960_level0_row3\" class=\"row_heading level0 row3\" >Jewish</th>\n",
       "      <td id=\"T_e5960_row3_col0\" class=\"data row3 col0\" >-0.07%</td>\n",
       "      <td id=\"T_e5960_row3_col1\" class=\"data row3 col1\" >0.48%</td>\n",
       "      <td id=\"T_e5960_row3_col2\" class=\"data row3 col2\" >0.20%</td>\n",
       "      <td id=\"T_e5960_row3_col3\" class=\"data row3 col3\" >0.12%</td>\n",
       "      <td id=\"T_e5960_row3_col4\" class=\"data row3 col4\" >-0.39%</td>\n",
       "      <td id=\"T_e5960_row3_col5\" class=\"data row3 col5\" >0.29%</td>\n",
       "    </tr>\n",
       "    <tr>\n",
       "      <th id=\"T_e5960_level0_row4\" class=\"row_heading level0 row4\" >Muslim</th>\n",
       "      <td id=\"T_e5960_row4_col0\" class=\"data row4 col0\" >0.06%</td>\n",
       "      <td id=\"T_e5960_row4_col1\" class=\"data row4 col1\" >1.59%</td>\n",
       "      <td id=\"T_e5960_row4_col2\" class=\"data row4 col2\" >0.78%</td>\n",
       "      <td id=\"T_e5960_row4_col3\" class=\"data row4 col3\" >0.36%</td>\n",
       "      <td id=\"T_e5960_row4_col4\" class=\"data row4 col4\" >-1.37%</td>\n",
       "      <td id=\"T_e5960_row4_col5\" class=\"data row4 col5\" >2.42%</td>\n",
       "    </tr>\n",
       "    <tr>\n",
       "      <th id=\"T_e5960_level0_row5\" class=\"row_heading level0 row5\" >No religion</th>\n",
       "      <td id=\"T_e5960_row5_col0\" class=\"data row5 col0\" >-1.18%</td>\n",
       "      <td id=\"T_e5960_row5_col1\" class=\"data row5 col1\" >3.26%</td>\n",
       "      <td id=\"T_e5960_row5_col2\" class=\"data row5 col2\" >2.37%</td>\n",
       "      <td id=\"T_e5960_row5_col3\" class=\"data row5 col3\" >1.73%</td>\n",
       "      <td id=\"T_e5960_row5_col4\" class=\"data row5 col4\" >-6.71%</td>\n",
       "      <td id=\"T_e5960_row5_col5\" class=\"data row5 col5\" >3.35%</td>\n",
       "    </tr>\n",
       "    <tr>\n",
       "      <th id=\"T_e5960_level0_row6\" class=\"row_heading level0 row6\" >Not answered</th>\n",
       "      <td id=\"T_e5960_row6_col0\" class=\"data row6 col0\" >0.81%</td>\n",
       "      <td id=\"T_e5960_row6_col1\" class=\"data row6 col1\" >3.02%</td>\n",
       "      <td id=\"T_e5960_row6_col2\" class=\"data row6 col2\" >1.93%</td>\n",
       "      <td id=\"T_e5960_row6_col3\" class=\"data row6 col3\" >1.45%</td>\n",
       "      <td id=\"T_e5960_row6_col4\" class=\"data row6 col4\" >-2.59%</td>\n",
       "      <td id=\"T_e5960_row6_col5\" class=\"data row6 col5\" >4.21%</td>\n",
       "    </tr>\n",
       "    <tr>\n",
       "      <th id=\"T_e5960_level0_row7\" class=\"row_heading level0 row7\" >Other religion</th>\n",
       "      <td id=\"T_e5960_row7_col0\" class=\"data row7 col0\" >-0.05%</td>\n",
       "      <td id=\"T_e5960_row7_col1\" class=\"data row7 col1\" >0.51%</td>\n",
       "      <td id=\"T_e5960_row7_col2\" class=\"data row7 col2\" >0.30%</td>\n",
       "      <td id=\"T_e5960_row7_col3\" class=\"data row7 col3\" >0.19%</td>\n",
       "      <td id=\"T_e5960_row7_col4\" class=\"data row7 col4\" >-0.66%</td>\n",
       "      <td id=\"T_e5960_row7_col5\" class=\"data row7 col5\" >0.56%</td>\n",
       "    </tr>\n",
       "    <tr>\n",
       "      <th id=\"T_e5960_level0_row8\" class=\"row_heading level0 row8\" >Sikh</th>\n",
       "      <td id=\"T_e5960_row8_col0\" class=\"data row8 col0\" >-0.07%</td>\n",
       "      <td id=\"T_e5960_row8_col1\" class=\"data row8 col1\" >0.37%</td>\n",
       "      <td id=\"T_e5960_row8_col2\" class=\"data row8 col2\" >0.23%</td>\n",
       "      <td id=\"T_e5960_row8_col3\" class=\"data row8 col3\" >0.17%</td>\n",
       "      <td id=\"T_e5960_row8_col4\" class=\"data row8 col4\" >-0.44%</td>\n",
       "      <td id=\"T_e5960_row8_col5\" class=\"data row8 col5\" >0.45%</td>\n",
       "    </tr>\n",
       "  </tbody>\n",
       "</table>\n"
      ],
      "text/plain": [
       "<pandas.io.formats.style.Styler at 0x12ae6b110>"
      ]
     },
     "execution_count": 46,
     "metadata": {},
     "output_type": "execute_result"
    }
   ],
   "source": [
    "pd.DataFrame({\n",
    "    'Mean Error (bias)': test_errors_2021.mean(),\n",
    "    'Root Mean Squared Error': (test_errors_2021 ** 2).mean() ** 0.5,\n",
    "    'Mean Absolute Error': test_errors_2021.abs().mean(),\n",
    "    'Median Absolute Error': test_errors_2021.abs().median(),\n",
    "    '5th percentile': test_errors_2021.quantile(0.05),\n",
    "    '95th percentile': test_errors_2021.quantile(0.95),\n",
    "}).style.format('{:.2%}')"
   ]
  },
  {
   "cell_type": "code",
   "execution_count": 47,
   "id": "34a737fa-2b6b-447d-ac28-83eda6b7fa7d",
   "metadata": {},
   "outputs": [
    {
     "data": {
      "text/html": [
       "<style type=\"text/css\">\n",
       "</style>\n",
       "<table id=\"T_a1971\">\n",
       "  <thead>\n",
       "    <tr>\n",
       "      <th class=\"index_name level0\" >religion</th>\n",
       "      <th id=\"T_a1971_level0_col0\" class=\"col_heading level0 col0\" >Buddhist</th>\n",
       "      <th id=\"T_a1971_level0_col1\" class=\"col_heading level0 col1\" >Christian</th>\n",
       "      <th id=\"T_a1971_level0_col2\" class=\"col_heading level0 col2\" >Hindu</th>\n",
       "      <th id=\"T_a1971_level0_col3\" class=\"col_heading level0 col3\" >Jewish</th>\n",
       "      <th id=\"T_a1971_level0_col4\" class=\"col_heading level0 col4\" >Muslim</th>\n",
       "      <th id=\"T_a1971_level0_col5\" class=\"col_heading level0 col5\" >No religion</th>\n",
       "      <th id=\"T_a1971_level0_col6\" class=\"col_heading level0 col6\" >Not answered</th>\n",
       "      <th id=\"T_a1971_level0_col7\" class=\"col_heading level0 col7\" >Other religion</th>\n",
       "      <th id=\"T_a1971_level0_col8\" class=\"col_heading level0 col8\" >Sikh</th>\n",
       "    </tr>\n",
       "    <tr>\n",
       "      <th class=\"index_name level0\" >age_2021</th>\n",
       "      <th class=\"blank col0\" >&nbsp;</th>\n",
       "      <th class=\"blank col1\" >&nbsp;</th>\n",
       "      <th class=\"blank col2\" >&nbsp;</th>\n",
       "      <th class=\"blank col3\" >&nbsp;</th>\n",
       "      <th class=\"blank col4\" >&nbsp;</th>\n",
       "      <th class=\"blank col5\" >&nbsp;</th>\n",
       "      <th class=\"blank col6\" >&nbsp;</th>\n",
       "      <th class=\"blank col7\" >&nbsp;</th>\n",
       "      <th class=\"blank col8\" >&nbsp;</th>\n",
       "    </tr>\n",
       "  </thead>\n",
       "  <tbody>\n",
       "    <tr>\n",
       "      <th id=\"T_a1971_level0_row0\" class=\"row_heading level0 row0\" >0-4</th>\n",
       "      <td id=\"T_a1971_row0_col0\" class=\"data row0 col0\" >0.11%</td>\n",
       "      <td id=\"T_a1971_row0_col1\" class=\"data row0 col1\" >-0.44%</td>\n",
       "      <td id=\"T_a1971_row0_col2\" class=\"data row0 col2\" >0.36%</td>\n",
       "      <td id=\"T_a1971_row0_col3\" class=\"data row0 col3\" >-0.15%</td>\n",
       "      <td id=\"T_a1971_row0_col4\" class=\"data row0 col4\" >0.96%</td>\n",
       "      <td id=\"T_a1971_row0_col5\" class=\"data row0 col5\" >-0.25%</td>\n",
       "      <td id=\"T_a1971_row0_col6\" class=\"data row0 col6\" >-0.40%</td>\n",
       "      <td id=\"T_a1971_row0_col7\" class=\"data row0 col7\" >-0.12%</td>\n",
       "      <td id=\"T_a1971_row0_col8\" class=\"data row0 col8\" >-0.06%</td>\n",
       "    </tr>\n",
       "    <tr>\n",
       "      <th id=\"T_a1971_level0_row1\" class=\"row_heading level0 row1\" >10-14</th>\n",
       "      <td id=\"T_a1971_row1_col0\" class=\"data row1 col0\" >0.08%</td>\n",
       "      <td id=\"T_a1971_row1_col1\" class=\"data row1 col1\" >1.39%</td>\n",
       "      <td id=\"T_a1971_row1_col2\" class=\"data row1 col2\" >0.00%</td>\n",
       "      <td id=\"T_a1971_row1_col3\" class=\"data row1 col3\" >-0.04%</td>\n",
       "      <td id=\"T_a1971_row1_col4\" class=\"data row1 col4\" >-0.03%</td>\n",
       "      <td id=\"T_a1971_row1_col5\" class=\"data row1 col5\" >-0.88%</td>\n",
       "      <td id=\"T_a1971_row1_col6\" class=\"data row1 col6\" >-0.34%</td>\n",
       "      <td id=\"T_a1971_row1_col7\" class=\"data row1 col7\" >-0.08%</td>\n",
       "      <td id=\"T_a1971_row1_col8\" class=\"data row1 col8\" >-0.11%</td>\n",
       "    </tr>\n",
       "    <tr>\n",
       "      <th id=\"T_a1971_level0_row2\" class=\"row_heading level0 row2\" >15-19</th>\n",
       "      <td id=\"T_a1971_row2_col0\" class=\"data row2 col0\" >0.09%</td>\n",
       "      <td id=\"T_a1971_row2_col1\" class=\"data row2 col1\" >3.43%</td>\n",
       "      <td id=\"T_a1971_row2_col2\" class=\"data row2 col2\" >0.02%</td>\n",
       "      <td id=\"T_a1971_row2_col3\" class=\"data row2 col3\" >-0.04%</td>\n",
       "      <td id=\"T_a1971_row2_col4\" class=\"data row2 col4\" >0.10%</td>\n",
       "      <td id=\"T_a1971_row2_col5\" class=\"data row2 col5\" >-1.76%</td>\n",
       "      <td id=\"T_a1971_row2_col6\" class=\"data row2 col6\" >-1.59%</td>\n",
       "      <td id=\"T_a1971_row2_col7\" class=\"data row2 col7\" >-0.17%</td>\n",
       "      <td id=\"T_a1971_row2_col8\" class=\"data row2 col8\" >-0.08%</td>\n",
       "    </tr>\n",
       "    <tr>\n",
       "      <th id=\"T_a1971_level0_row3\" class=\"row_heading level0 row3\" >20-24</th>\n",
       "      <td id=\"T_a1971_row3_col0\" class=\"data row3 col0\" >0.15%</td>\n",
       "      <td id=\"T_a1971_row3_col1\" class=\"data row3 col1\" >3.95%</td>\n",
       "      <td id=\"T_a1971_row3_col2\" class=\"data row3 col2\" >0.04%</td>\n",
       "      <td id=\"T_a1971_row3_col3\" class=\"data row3 col3\" >-0.04%</td>\n",
       "      <td id=\"T_a1971_row3_col4\" class=\"data row3 col4\" >0.43%</td>\n",
       "      <td id=\"T_a1971_row3_col5\" class=\"data row3 col5\" >-2.85%</td>\n",
       "      <td id=\"T_a1971_row3_col6\" class=\"data row3 col6\" >-1.32%</td>\n",
       "      <td id=\"T_a1971_row3_col7\" class=\"data row3 col7\" >-0.24%</td>\n",
       "      <td id=\"T_a1971_row3_col8\" class=\"data row3 col8\" >-0.12%</td>\n",
       "    </tr>\n",
       "    <tr>\n",
       "      <th id=\"T_a1971_level0_row4\" class=\"row_heading level0 row4\" >25-29</th>\n",
       "      <td id=\"T_a1971_row4_col0\" class=\"data row4 col0\" >0.21%</td>\n",
       "      <td id=\"T_a1971_row4_col1\" class=\"data row4 col1\" >5.27%</td>\n",
       "      <td id=\"T_a1971_row4_col2\" class=\"data row4 col2\" >0.11%</td>\n",
       "      <td id=\"T_a1971_row4_col3\" class=\"data row4 col3\" >-0.05%</td>\n",
       "      <td id=\"T_a1971_row4_col4\" class=\"data row4 col4\" >0.32%</td>\n",
       "      <td id=\"T_a1971_row4_col5\" class=\"data row4 col5\" >-5.10%</td>\n",
       "      <td id=\"T_a1971_row4_col6\" class=\"data row4 col6\" >-0.44%</td>\n",
       "      <td id=\"T_a1971_row4_col7\" class=\"data row4 col7\" >-0.23%</td>\n",
       "      <td id=\"T_a1971_row4_col8\" class=\"data row4 col8\" >-0.09%</td>\n",
       "    </tr>\n",
       "    <tr>\n",
       "      <th id=\"T_a1971_level0_row5\" class=\"row_heading level0 row5\" >30-34</th>\n",
       "      <td id=\"T_a1971_row5_col0\" class=\"data row5 col0\" >0.26%</td>\n",
       "      <td id=\"T_a1971_row5_col1\" class=\"data row5 col1\" >3.65%</td>\n",
       "      <td id=\"T_a1971_row5_col2\" class=\"data row5 col2\" >0.26%</td>\n",
       "      <td id=\"T_a1971_row5_col3\" class=\"data row5 col3\" >-0.05%</td>\n",
       "      <td id=\"T_a1971_row5_col4\" class=\"data row5 col4\" >0.11%</td>\n",
       "      <td id=\"T_a1971_row5_col5\" class=\"data row5 col5\" >-3.47%</td>\n",
       "      <td id=\"T_a1971_row5_col6\" class=\"data row5 col6\" >-0.50%</td>\n",
       "      <td id=\"T_a1971_row5_col7\" class=\"data row5 col7\" >-0.16%</td>\n",
       "      <td id=\"T_a1971_row5_col8\" class=\"data row5 col8\" >-0.11%</td>\n",
       "    </tr>\n",
       "    <tr>\n",
       "      <th id=\"T_a1971_level0_row6\" class=\"row_heading level0 row6\" >35-39</th>\n",
       "      <td id=\"T_a1971_row6_col0\" class=\"data row6 col0\" >0.22%</td>\n",
       "      <td id=\"T_a1971_row6_col1\" class=\"data row6 col1\" >1.41%</td>\n",
       "      <td id=\"T_a1971_row6_col2\" class=\"data row6 col2\" >-0.04%</td>\n",
       "      <td id=\"T_a1971_row6_col3\" class=\"data row6 col3\" >-0.07%</td>\n",
       "      <td id=\"T_a1971_row6_col4\" class=\"data row6 col4\" >-0.02%</td>\n",
       "      <td id=\"T_a1971_row6_col5\" class=\"data row6 col5\" >-0.90%</td>\n",
       "      <td id=\"T_a1971_row6_col6\" class=\"data row6 col6\" >-0.40%</td>\n",
       "      <td id=\"T_a1971_row6_col7\" class=\"data row6 col7\" >-0.08%</td>\n",
       "      <td id=\"T_a1971_row6_col8\" class=\"data row6 col8\" >-0.12%</td>\n",
       "    </tr>\n",
       "    <tr>\n",
       "      <th id=\"T_a1971_level0_row7\" class=\"row_heading level0 row7\" >40-44</th>\n",
       "      <td id=\"T_a1971_row7_col0\" class=\"data row7 col0\" >0.15%</td>\n",
       "      <td id=\"T_a1971_row7_col1\" class=\"data row7 col1\" >-0.65%</td>\n",
       "      <td id=\"T_a1971_row7_col2\" class=\"data row7 col2\" >-0.08%</td>\n",
       "      <td id=\"T_a1971_row7_col3\" class=\"data row7 col3\" >-0.08%</td>\n",
       "      <td id=\"T_a1971_row7_col4\" class=\"data row7 col4\" >-0.27%</td>\n",
       "      <td id=\"T_a1971_row7_col5\" class=\"data row7 col5\" >0.96%</td>\n",
       "      <td id=\"T_a1971_row7_col6\" class=\"data row7 col6\" >0.13%</td>\n",
       "      <td id=\"T_a1971_row7_col7\" class=\"data row7 col7\" >-0.02%</td>\n",
       "      <td id=\"T_a1971_row7_col8\" class=\"data row7 col8\" >-0.14%</td>\n",
       "    </tr>\n",
       "    <tr>\n",
       "      <th id=\"T_a1971_level0_row8\" class=\"row_heading level0 row8\" >45-49</th>\n",
       "      <td id=\"T_a1971_row8_col0\" class=\"data row8 col0\" >0.09%</td>\n",
       "      <td id=\"T_a1971_row8_col1\" class=\"data row8 col1\" >-1.37%</td>\n",
       "      <td id=\"T_a1971_row8_col2\" class=\"data row8 col2\" >-0.02%</td>\n",
       "      <td id=\"T_a1971_row8_col3\" class=\"data row8 col3\" >-0.06%</td>\n",
       "      <td id=\"T_a1971_row8_col4\" class=\"data row8 col4\" >-0.16%</td>\n",
       "      <td id=\"T_a1971_row8_col5\" class=\"data row8 col5\" >0.72%</td>\n",
       "      <td id=\"T_a1971_row8_col6\" class=\"data row8 col6\" >0.90%</td>\n",
       "      <td id=\"T_a1971_row8_col7\" class=\"data row8 col7\" >0.03%</td>\n",
       "      <td id=\"T_a1971_row8_col8\" class=\"data row8 col8\" >-0.12%</td>\n",
       "    </tr>\n",
       "    <tr>\n",
       "      <th id=\"T_a1971_level0_row9\" class=\"row_heading level0 row9\" >5-9</th>\n",
       "      <td id=\"T_a1971_row9_col0\" class=\"data row9 col0\" >0.12%</td>\n",
       "      <td id=\"T_a1971_row9_col1\" class=\"data row9 col1\" >1.02%</td>\n",
       "      <td id=\"T_a1971_row9_col2\" class=\"data row9 col2\" >0.33%</td>\n",
       "      <td id=\"T_a1971_row9_col3\" class=\"data row9 col3\" >-0.06%</td>\n",
       "      <td id=\"T_a1971_row9_col4\" class=\"data row9 col4\" >0.30%</td>\n",
       "      <td id=\"T_a1971_row9_col5\" class=\"data row9 col5\" >-1.38%</td>\n",
       "      <td id=\"T_a1971_row9_col6\" class=\"data row9 col6\" >-0.29%</td>\n",
       "      <td id=\"T_a1971_row9_col7\" class=\"data row9 col7\" >-0.09%</td>\n",
       "      <td id=\"T_a1971_row9_col8\" class=\"data row9 col8\" >0.05%</td>\n",
       "    </tr>\n",
       "    <tr>\n",
       "      <th id=\"T_a1971_level0_row10\" class=\"row_heading level0 row10\" >50-54</th>\n",
       "      <td id=\"T_a1971_row10_col0\" class=\"data row10 col0\" >0.03%</td>\n",
       "      <td id=\"T_a1971_row10_col1\" class=\"data row10 col1\" >-0.88%</td>\n",
       "      <td id=\"T_a1971_row10_col2\" class=\"data row10 col2\" >-0.01%</td>\n",
       "      <td id=\"T_a1971_row10_col3\" class=\"data row10 col3\" >-0.07%</td>\n",
       "      <td id=\"T_a1971_row10_col4\" class=\"data row10 col4\" >-0.20%</td>\n",
       "      <td id=\"T_a1971_row10_col5\" class=\"data row10 col5\" >-0.34%</td>\n",
       "      <td id=\"T_a1971_row10_col6\" class=\"data row10 col6\" >1.44%</td>\n",
       "      <td id=\"T_a1971_row10_col7\" class=\"data row10 col7\" >0.09%</td>\n",
       "      <td id=\"T_a1971_row10_col8\" class=\"data row10 col8\" >-0.06%</td>\n",
       "    </tr>\n",
       "    <tr>\n",
       "      <th id=\"T_a1971_level0_row11\" class=\"row_heading level0 row11\" >55-59</th>\n",
       "      <td id=\"T_a1971_row11_col0\" class=\"data row11 col0\" >0.03%</td>\n",
       "      <td id=\"T_a1971_row11_col1\" class=\"data row11 col1\" >-1.07%</td>\n",
       "      <td id=\"T_a1971_row11_col2\" class=\"data row11 col2\" >-0.03%</td>\n",
       "      <td id=\"T_a1971_row11_col3\" class=\"data row11 col3\" >-0.05%</td>\n",
       "      <td id=\"T_a1971_row11_col4\" class=\"data row11 col4\" >-0.12%</td>\n",
       "      <td id=\"T_a1971_row11_col5\" class=\"data row11 col5\" >-0.86%</td>\n",
       "      <td id=\"T_a1971_row11_col6\" class=\"data row11 col6\" >2.07%</td>\n",
       "      <td id=\"T_a1971_row11_col7\" class=\"data row11 col7\" >0.09%</td>\n",
       "      <td id=\"T_a1971_row11_col8\" class=\"data row11 col8\" >-0.04%</td>\n",
       "    </tr>\n",
       "    <tr>\n",
       "      <th id=\"T_a1971_level0_row12\" class=\"row_heading level0 row12\" >60-64</th>\n",
       "      <td id=\"T_a1971_row12_col0\" class=\"data row12 col0\" >0.02%</td>\n",
       "      <td id=\"T_a1971_row12_col1\" class=\"data row12 col1\" >-1.76%</td>\n",
       "      <td id=\"T_a1971_row12_col2\" class=\"data row12 col2\" >-0.02%</td>\n",
       "      <td id=\"T_a1971_row12_col3\" class=\"data row12 col3\" >-0.05%</td>\n",
       "      <td id=\"T_a1971_row12_col4\" class=\"data row12 col4\" >-0.06%</td>\n",
       "      <td id=\"T_a1971_row12_col5\" class=\"data row12 col5\" >-0.76%</td>\n",
       "      <td id=\"T_a1971_row12_col6\" class=\"data row12 col6\" >2.59%</td>\n",
       "      <td id=\"T_a1971_row12_col7\" class=\"data row12 col7\" >0.09%</td>\n",
       "      <td id=\"T_a1971_row12_col8\" class=\"data row12 col8\" >-0.05%</td>\n",
       "    </tr>\n",
       "    <tr>\n",
       "      <th id=\"T_a1971_level0_row13\" class=\"row_heading level0 row13\" >65-69</th>\n",
       "      <td id=\"T_a1971_row13_col0\" class=\"data row13 col0\" >-0.00%</td>\n",
       "      <td id=\"T_a1971_row13_col1\" class=\"data row13 col1\" >-2.56%</td>\n",
       "      <td id=\"T_a1971_row13_col2\" class=\"data row13 col2\" >-0.03%</td>\n",
       "      <td id=\"T_a1971_row13_col3\" class=\"data row13 col3\" >-0.10%</td>\n",
       "      <td id=\"T_a1971_row13_col4\" class=\"data row13 col4\" >-0.10%</td>\n",
       "      <td id=\"T_a1971_row13_col5\" class=\"data row13 col5\" >-0.29%</td>\n",
       "      <td id=\"T_a1971_row13_col6\" class=\"data row13 col6\" >3.07%</td>\n",
       "      <td id=\"T_a1971_row13_col7\" class=\"data row13 col7\" >0.05%</td>\n",
       "      <td id=\"T_a1971_row13_col8\" class=\"data row13 col8\" >-0.05%</td>\n",
       "    </tr>\n",
       "    <tr>\n",
       "      <th id=\"T_a1971_level0_row14\" class=\"row_heading level0 row14\" >70-74</th>\n",
       "      <td id=\"T_a1971_row14_col0\" class=\"data row14 col0\" >-0.03%</td>\n",
       "      <td id=\"T_a1971_row14_col1\" class=\"data row14 col1\" >-2.59%</td>\n",
       "      <td id=\"T_a1971_row14_col2\" class=\"data row14 col2\" >-0.05%</td>\n",
       "      <td id=\"T_a1971_row14_col3\" class=\"data row14 col3\" >-0.11%</td>\n",
       "      <td id=\"T_a1971_row14_col4\" class=\"data row14 col4\" >-0.02%</td>\n",
       "      <td id=\"T_a1971_row14_col5\" class=\"data row14 col5\" >-0.38%</td>\n",
       "      <td id=\"T_a1971_row14_col6\" class=\"data row14 col6\" >3.18%</td>\n",
       "      <td id=\"T_a1971_row14_col7\" class=\"data row14 col7\" >0.04%</td>\n",
       "      <td id=\"T_a1971_row14_col8\" class=\"data row14 col8\" >-0.04%</td>\n",
       "    </tr>\n",
       "    <tr>\n",
       "      <th id=\"T_a1971_level0_row15\" class=\"row_heading level0 row15\" >75-79</th>\n",
       "      <td id=\"T_a1971_row15_col0\" class=\"data row15 col0\" >-0.03%</td>\n",
       "      <td id=\"T_a1971_row15_col1\" class=\"data row15 col1\" >-2.27%</td>\n",
       "      <td id=\"T_a1971_row15_col2\" class=\"data row15 col2\" >-0.05%</td>\n",
       "      <td id=\"T_a1971_row15_col3\" class=\"data row15 col3\" >-0.12%</td>\n",
       "      <td id=\"T_a1971_row15_col4\" class=\"data row15 col4\" >0.01%</td>\n",
       "      <td id=\"T_a1971_row15_col5\" class=\"data row15 col5\" >-0.51%</td>\n",
       "      <td id=\"T_a1971_row15_col6\" class=\"data row15 col6\" >2.99%</td>\n",
       "      <td id=\"T_a1971_row15_col7\" class=\"data row15 col7\" >-0.00%</td>\n",
       "      <td id=\"T_a1971_row15_col8\" class=\"data row15 col8\" >-0.02%</td>\n",
       "    </tr>\n",
       "    <tr>\n",
       "      <th id=\"T_a1971_level0_row16\" class=\"row_heading level0 row16\" >80-84</th>\n",
       "      <td id=\"T_a1971_row16_col0\" class=\"data row16 col0\" >-0.01%</td>\n",
       "      <td id=\"T_a1971_row16_col1\" class=\"data row16 col1\" >-1.21%</td>\n",
       "      <td id=\"T_a1971_row16_col2\" class=\"data row16 col2\" >-0.08%</td>\n",
       "      <td id=\"T_a1971_row16_col3\" class=\"data row16 col3\" >-0.11%</td>\n",
       "      <td id=\"T_a1971_row16_col4\" class=\"data row16 col4\" >0.05%</td>\n",
       "      <td id=\"T_a1971_row16_col5\" class=\"data row16 col5\" >-1.15%</td>\n",
       "      <td id=\"T_a1971_row16_col6\" class=\"data row16 col6\" >2.57%</td>\n",
       "      <td id=\"T_a1971_row16_col7\" class=\"data row16 col7\" >-0.02%</td>\n",
       "      <td id=\"T_a1971_row16_col8\" class=\"data row16 col8\" >-0.04%</td>\n",
       "    </tr>\n",
       "    <tr>\n",
       "      <th id=\"T_a1971_level0_row17\" class=\"row_heading level0 row17\" >85+</th>\n",
       "      <td id=\"T_a1971_row17_col0\" class=\"data row17 col0\" >-0.00%</td>\n",
       "      <td id=\"T_a1971_row17_col1\" class=\"data row17 col1\" >1.68%</td>\n",
       "      <td id=\"T_a1971_row17_col2\" class=\"data row17 col2\" >-0.17%</td>\n",
       "      <td id=\"T_a1971_row17_col3\" class=\"data row17 col3\" >-0.11%</td>\n",
       "      <td id=\"T_a1971_row17_col4\" class=\"data row17 col4\" >-0.20%</td>\n",
       "      <td id=\"T_a1971_row17_col5\" class=\"data row17 col5\" >-2.05%</td>\n",
       "      <td id=\"T_a1971_row17_col6\" class=\"data row17 col6\" >0.95%</td>\n",
       "      <td id=\"T_a1971_row17_col7\" class=\"data row17 col7\" >-0.01%</td>\n",
       "      <td id=\"T_a1971_row17_col8\" class=\"data row17 col8\" >-0.09%</td>\n",
       "    </tr>\n",
       "  </tbody>\n",
       "</table>\n"
      ],
      "text/plain": [
       "<pandas.io.formats.style.Styler at 0x12ae6ac90>"
      ]
     },
     "execution_count": 47,
     "metadata": {},
     "output_type": "execute_result"
    }
   ],
   "source": [
    "test_errors_2021.groupby('age_2021').mean().style.format('{:.2%}')"
   ]
  },
  {
   "cell_type": "code",
   "execution_count": null,
   "id": "2c59bab2-c3c1-4e09-abe1-6dba2f6e0e8d",
   "metadata": {},
   "outputs": [],
   "source": []
  }
 ],
 "metadata": {
  "kernelspec": {
   "display_name": "Python 3 (ipykernel)",
   "language": "python",
   "name": "python3"
  },
  "language_info": {
   "codemirror_mode": {
    "name": "ipython",
    "version": 3
   },
   "file_extension": ".py",
   "mimetype": "text/x-python",
   "name": "python",
   "nbconvert_exporter": "python",
   "pygments_lexer": "ipython3",
   "version": "3.11.1"
  }
 },
 "nbformat": 4,
 "nbformat_minor": 5
}
