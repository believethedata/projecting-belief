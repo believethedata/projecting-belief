{
 "cells": [
  {
   "cell_type": "markdown",
   "id": "efb10663-94fe-4a3f-80f0-64aaa3df1633",
   "metadata": {},
   "source": [
    "# Imports"
   ]
  },
  {
   "cell_type": "code",
   "execution_count": 1,
   "id": "98b7294c-5e03-4dc0-b65a-85d5922fbb4c",
   "metadata": {},
   "outputs": [],
   "source": [
    "import numpy as np\n",
    "import pandas as pd\n",
    "from sklearn.metrics import mean_squared_error, root_mean_squared_error, median_absolute_error, mean_absolute_error\n",
    "from sklearn.model_selection import train_test_split"
   ]
  },
  {
   "cell_type": "code",
   "execution_count": 2,
   "id": "ff57b368-f906-4cfc-a14d-4c52b1304b15",
   "metadata": {},
   "outputs": [],
   "source": [
    "import sys\n",
    "sys.path.append('../..')\n",
    "from utils.estimators import *"
   ]
  },
  {
   "cell_type": "code",
   "execution_count": 3,
   "id": "0784e548-2337-4149-9ff1-7b101dfd2862",
   "metadata": {},
   "outputs": [],
   "source": [
    "pd.options.mode.chained_assignment = None"
   ]
  },
  {
   "cell_type": "markdown",
   "id": "a792403a-eb48-4ff9-875c-fefb85c29cf0",
   "metadata": {},
   "source": [
    "# Load data"
   ]
  },
  {
   "cell_type": "code",
   "execution_count": 4,
   "id": "0dd3ea81-cc64-410c-a6f4-3b0fae1185b2",
   "metadata": {},
   "outputs": [],
   "source": [
    "df = pd.read_csv('../../processed_data/england_wales.csv')\n",
    "yob_order = (y := sorted(df['yob'].unique()))[-1:] + y[:-1]\n",
    "df['yob'] = pd.Categorical(df['yob'], categories=yob_order)\n",
    "df.sort_values('yob', inplace=True)"
   ]
  },
  {
   "cell_type": "code",
   "execution_count": 5,
   "id": "c0881c78-3ccf-4388-b641-73dae668595b",
   "metadata": {},
   "outputs": [],
   "source": [
    "religion_cols = sorted(df['religion'].unique())"
   ]
  },
  {
   "cell_type": "code",
   "execution_count": 6,
   "id": "8e7ffd4e-a134-4097-bb21-38c632e1c03a",
   "metadata": {},
   "outputs": [],
   "source": [
    "qwe = df.pivot_table(\n",
    "    index=['census_year', 'sex', 'yob', 'geo_code'],\n",
    "    columns='religion',\n",
    "    values='population',\n",
    "    aggfunc='sum',\n",
    "    observed=True,\n",
    ")"
   ]
  },
  {
   "cell_type": "code",
   "execution_count": 7,
   "id": "31f9b079-ea91-4c40-9a71-cd8ea264345e",
   "metadata": {},
   "outputs": [],
   "source": [
    "qwe = qwe.loc[[2011,2021]]"
   ]
  },
  {
   "cell_type": "markdown",
   "id": "ce4e280f-a76d-4c4c-a601-e8b1dfc40674",
   "metadata": {},
   "source": [
    "## Add age_as_of columns"
   ]
  },
  {
   "cell_type": "markdown",
   "id": "e26b9430-a99a-4d8a-ad7a-896b23adc867",
   "metadata": {},
   "source": [
    "### 2011"
   ]
  },
  {
   "cell_type": "code",
   "execution_count": 8,
   "id": "57fa3788-06c4-491c-8cdb-7df73f98a2f8",
   "metadata": {},
   "outputs": [],
   "source": [
    "age_bands_2011 = dict(df.loc[df['census_year'] == 2011, ['yob', 'age_band']].drop_duplicates().values)\n",
    "age_bands_2011['pre-1927'] = '85+'"
   ]
  },
  {
   "cell_type": "code",
   "execution_count": 9,
   "id": "4ff3e1b4-f3e5-49ca-a28a-3ceeaef1eb07",
   "metadata": {},
   "outputs": [],
   "source": [
    "qwe['age_2011'] = pd.Categorical(\n",
    "    qwe.index.get_level_values('yob').map(age_bands_2011),\n",
    "    categories=['0-4', '5-9', '10-14', '15-19', '20-24', '25-29', '30-34', '35-39', '40-44',\n",
    "                '45-49', '50-54', '55-59', '60-64', '65-69', '70-74', '75-79', '80-84', '85+']\n",
    ")"
   ]
  },
  {
   "cell_type": "markdown",
   "id": "acada854-e1da-496c-9181-36bf93aec140",
   "metadata": {},
   "source": [
    "### 2021"
   ]
  },
  {
   "cell_type": "code",
   "execution_count": 10,
   "id": "ba71f0ad-749e-4db1-bb20-5f06c08172e4",
   "metadata": {},
   "outputs": [],
   "source": [
    "age_bands_2021 = dict(df.loc[df['census_year'] == 2021, ['yob', 'age_band']].drop_duplicates().values)"
   ]
  },
  {
   "cell_type": "code",
   "execution_count": 11,
   "id": "cc20bc31-0d91-4e08-97cb-fd6c34e9a826",
   "metadata": {},
   "outputs": [],
   "source": [
    "age_bands_2021['pre-1927'] = '85+'\n",
    "age_bands_2021['1927-1931'] = '85+'\n",
    "age_bands_2021['1932-1936'] = '85+'"
   ]
  },
  {
   "cell_type": "code",
   "execution_count": 12,
   "id": "72d6fd88-d6fe-4795-9ce8-052aa33a6d93",
   "metadata": {},
   "outputs": [],
   "source": [
    "qwe['age_2021'] = pd.Categorical(\n",
    "    qwe.index.get_level_values('yob').map(age_bands_2021),\n",
    "    categories=qwe['age_2011'].cat.categories\n",
    ")"
   ]
  },
  {
   "cell_type": "markdown",
   "id": "955228e5-4160-4509-a944-09745e18511a",
   "metadata": {},
   "source": [
    "## Build datasets"
   ]
  },
  {
   "cell_type": "code",
   "execution_count": 13,
   "id": "0cde179c-1a11-487f-aa6f-2a60b92d7224",
   "metadata": {},
   "outputs": [],
   "source": [
    "df_train_X = qwe.loc[2011].groupby(['sex', 'age_2011', 'geo_code'], observed=True)[religion_cols].sum().apply(lambda x:x/x.sum(), axis='columns')\n",
    "df_train_Y = qwe.loc[2021].groupby(['sex', 'age_2011', 'geo_code'], observed=True)[religion_cols].sum().apply(lambda x:x/x.sum(), axis='columns')\n",
    "df_predict_X = qwe.loc[2021].groupby(['sex', 'age_2021', 'geo_code'], observed=True)[religion_cols].sum().apply(lambda x:x/x.sum(), axis='columns')\n",
    "\n",
    "assert df_train_X.index.equals(df_train_Y.index)\n",
    "assert df_train_X.index.equals(df_predict_X.index)"
   ]
  },
  {
   "cell_type": "markdown",
   "id": "7cbdc2ef-4765-4020-9c1d-dc97e7ce9339",
   "metadata": {},
   "source": [
    "# Fit models"
   ]
  },
  {
   "cell_type": "code",
   "execution_count": 14,
   "id": "ffa45105-d687-4d9d-af4b-5887d5e67f9c",
   "metadata": {},
   "outputs": [],
   "source": [
    "group_estimators = [\n",
    "    LinearTrendEstimator,\n",
    "    ExponentialEstimator,\n",
    "    # OddsMultiplierEstimator,\n",
    "    # TransitionMatrixEstimator,\n",
    "    BasicTransitionMatrixEstimator,\n",
    "]\n",
    "\n",
    "individual_estimators = [\n",
    "    IndividualLinearEstimator,\n",
    "    IndividualExponentialEstimator,\n",
    "    # IndividualOddsRatioEstimator,\n",
    "    IndividualBasicTransitionMatrixEstimator,\n",
    "]"
   ]
  },
  {
   "cell_type": "code",
   "execution_count": 15,
   "id": "7f7f8d7e-2adc-4c85-b5d0-31035854f4a1",
   "metadata": {},
   "outputs": [],
   "source": [
    "group_models = {}\n",
    "\n",
    "for est in group_estimators:\n",
    "    group_models[est.__name__] = {}\n",
    "    for (sex, age), group in df_train_X.groupby(level=['sex', 'age_2011'], observed=True):\n",
    "        group_models[est.__name__][(sex, age)] = est().fit(group, df_train_Y.loc[(sex, age)])"
   ]
  },
  {
   "cell_type": "code",
   "execution_count": 16,
   "id": "7d79bdcd-29a9-4fc7-89fc-d44fbdd3f19e",
   "metadata": {},
   "outputs": [],
   "source": [
    "individual_models = []\n",
    "\n",
    "for est in individual_estimators:\n",
    "    individual_models.append(est().fit(df_train_X, df_train_Y))"
   ]
  },
  {
   "cell_type": "markdown",
   "id": "c2495ec2-cb9d-4312-abc1-5ef6cdb13a4e",
   "metadata": {},
   "source": [
    "## Make ensemble predictions for over tens"
   ]
  },
  {
   "cell_type": "code",
   "execution_count": 17,
   "id": "ab455260-3387-4589-95a2-fe1194f3470a",
   "metadata": {},
   "outputs": [],
   "source": [
    "ensemble_weights = pd.read_csv('../../model_selection/optimal_weights_for_over_10_model.csv')"
   ]
  },
  {
   "cell_type": "code",
   "execution_count": 19,
   "id": "e4a09746-912a-4ff6-aea5-9285deb85527",
   "metadata": {},
   "outputs": [],
   "source": [
    "assert ([e.__name__ for e in group_estimators]\n",
    "        + [e.__name__ for e in individual_estimators]\n",
    "        == ensemble_weights['Estimator'].values).all()"
   ]
  },
  {
   "cell_type": "code",
   "execution_count": 20,
   "id": "08ab65d8-1b50-420b-a724-65c0725464d5",
   "metadata": {},
   "outputs": [
    {
     "name": "stdout",
     "output_type": "stream",
     "text": [
      "Processing 2021...\n",
      "Processing 2022...\n",
      "Processing 2023...\n",
      "Processing 2024...\n",
      "Processing 2025...\n",
      "Processing 2026...\n",
      "Processing 2027...\n",
      "Processing 2028...\n",
      "Processing 2029...\n",
      "Processing 2030...\n",
      "Processing 2031...\n",
      "CPU times: user 9min 28s, sys: 3min 18s, total: 12min 46s\n",
      "Wall time: 3min 50s\n"
     ]
    }
   ],
   "source": [
    "%%time\n",
    "\n",
    "predictions = {}\n",
    "\n",
    "for yr in range(2021, 2032):\n",
    "    print(f'Processing {yr}...')\n",
    "    years_ahead = yr - 2021\n",
    "    preds = []\n",
    "    \n",
    "    for model in group_models:\n",
    "        ps = []\n",
    "        for (sex, age), group in df_predict_X.groupby(level=['sex', 'age_2021'], observed=True):\n",
    "            p = group_models[model][(sex, age)].predict(df_predict_X.loc[(sex, age)], power=years_ahead/10).values\n",
    "            ps.append(p)\n",
    "        preds.append(np.concatenate(ps))\n",
    "    \n",
    "    for model in individual_models:\n",
    "        preds.append(model.predict(df_predict_X, power=years_ahead/10))\n",
    "    \n",
    "    preds = np.stack(preds, axis=-1)\n",
    "    ensemble_preds = np.dot(preds, ensemble_weights['Model Weight'])\n",
    "    predictions[yr] = ensemble_preds"
   ]
  },
  {
   "cell_type": "markdown",
   "id": "05526d7d-596b-4f56-b46d-734f715d5e3a",
   "metadata": {},
   "source": [
    "## Build age band maps"
   ]
  },
  {
   "cell_type": "code",
   "execution_count": 21,
   "id": "c452a0b7-c691-4237-aaba-e39c36497465",
   "metadata": {},
   "outputs": [],
   "source": [
    "ages_2021 = ['0-4','5-9',\n",
    "             '10-14','15-19','20-24','25-29','30-34','35-39','40-44',\n",
    "             '45-49','50-54','55-59','60-64','65-69','70-74','75-79','80-84']\n",
    "\n",
    "age_band_maps = {}\n",
    "\n",
    "for yr in range(2022, 2032):\n",
    "    years_ahead = yr - 2021\n",
    "    age_band_maps[yr] = {a: f'{int(a.split(\"-\")[0]) + years_ahead}-{int(a.split(\"-\")[1]) + years_ahead}' for a in ages_2021}\n",
    "    age_band_maps[yr]['85+'] = f'{85 + years_ahead}+'"
   ]
  },
  {
   "cell_type": "code",
   "execution_count": 22,
   "id": "33646bf7-ff2a-45ec-bedc-2ffed191e9af",
   "metadata": {},
   "outputs": [],
   "source": [
    "prediction_dfs = {}\n",
    "\n",
    "for yr in range(2022, 2032):\n",
    "    prediction_dfs[yr] = pd.DataFrame(\n",
    "        predictions[yr].reshape(-1, len(religion_cols)),\n",
    "        df_predict_X.index,\n",
    "        df_predict_X.columns,\n",
    "    ).reset_index()\n",
    "    prediction_dfs[yr]['year'] = yr\n",
    "    prediction_dfs[yr]['age_band'] = prediction_dfs[yr]['age_2021'].map(age_band_maps[yr])\n",
    "    prediction_dfs[yr] = prediction_dfs[yr].set_index(['year', 'sex', 'age_band', 'geo_code']).drop(columns='age_2021')"
   ]
  },
  {
   "cell_type": "markdown",
   "id": "3afa0a6c-1ed0-479e-b0f8-2c03902ee589",
   "metadata": {},
   "source": [
    "## Make predictions for under tens"
   ]
  },
  {
   "cell_type": "code",
   "execution_count": 24,
   "id": "48728cdd-c066-4456-8f1b-4304112daded",
   "metadata": {},
   "outputs": [],
   "source": [
    "optimal_under_10_models = pd.read_csv('../../model_selection/optimal_under_10_models.csv')"
   ]
  },
  {
   "cell_type": "code",
   "execution_count": 25,
   "id": "eaa17eaf-04c5-427b-995f-a87445f69316",
   "metadata": {},
   "outputs": [],
   "source": [
    "u10_models = {}\n",
    "cols = ['sex_of_child', 'age_of_child', 'sex_of_parent', 'age_of_parent', 'estimator']\n",
    "\n",
    "for _, (sex_of_child, age_of_child, sex_of_parent, age_of_parent, estimator) in optimal_under_10_models[cols].iterrows():\n",
    "    u10_models[(sex_of_child, age_of_child)] = locals()[estimator]().fit(df_predict_X.loc[(sex_of_parent, age_of_parent)], df_predict_X.loc[(sex_of_child, age_of_child)])"
   ]
  },
  {
   "cell_type": "code",
   "execution_count": 26,
   "id": "cd228e1f-d008-4185-82ef-355612b78f57",
   "metadata": {},
   "outputs": [],
   "source": [
    "u10_prediction_dfs = {}\n",
    "\n",
    "for yr in range(2022, 2032):\n",
    "    years_ahead = yr - 2021\n",
    "    age_band1 = f'0-{min(years_ahead, 5)-1}'\n",
    "    for sex_of_child in ['female', 'male']:\n",
    "        preds = u10_models[(sex_of_child, '0-4')].predict(prediction_dfs[yr].loc[(yr, 'female', age_band_maps[yr]['25-29'])])\n",
    "        u10_prediction_dfs[(yr, sex_of_child, age_band1)] = preds\n",
    "    if years_ahead > 5:\n",
    "        age_band2 = f'5-{min(years_ahead, 10)-1}'\n",
    "        for sex_of_child in ['female', 'male']:\n",
    "            preds = u10_models[(sex_of_child, '5-9')].predict(prediction_dfs[yr].loc[(yr, 'female', age_band_maps[yr]['30-34'])])\n",
    "            u10_prediction_dfs[(yr, sex_of_child, age_band2)] = preds"
   ]
  },
  {
   "cell_type": "markdown",
   "id": "64902f31-648d-4037-aa43-978dc046b3ad",
   "metadata": {},
   "source": [
    "## Combine with over 10 predictions"
   ]
  },
  {
   "cell_type": "code",
   "execution_count": 27,
   "id": "a9ab54da-b751-41ee-b0ad-18692af55a94",
   "metadata": {},
   "outputs": [],
   "source": [
    "for k in u10_prediction_dfs:\n",
    "    u10_prediction_dfs[k].index = pd.MultiIndex.from_product([[k[0]], [k[1]], [k[2]], u10_prediction_dfs[k].index])\n",
    "\n",
    "all_predictions_pct = pd.concat([*u10_prediction_dfs.values(), *prediction_dfs.values()]).sort_index()\n",
    "all_predictions_pct.index.names = ['year', 'sex', 'age_band', 'geo_code']"
   ]
  },
  {
   "cell_type": "markdown",
   "id": "cb34ceff-a926-4f37-8d6a-44ff7a0fe377",
   "metadata": {},
   "source": [
    "# Write to CSV"
   ]
  },
  {
   "cell_type": "code",
   "execution_count": 28,
   "id": "a44bfc9e-ae9a-4877-ad1a-041e05827384",
   "metadata": {},
   "outputs": [],
   "source": [
    "all_predictions_pct.to_csv('ew_religious_mix_prediction.csv')"
   ]
  },
  {
   "cell_type": "code",
   "execution_count": null,
   "id": "29af07d2-b523-436a-8881-871bb41b1c31",
   "metadata": {},
   "outputs": [],
   "source": []
  }
 ],
 "metadata": {
  "kernelspec": {
   "display_name": "Python 3 (ipykernel)",
   "language": "python",
   "name": "python3"
  },
  "language_info": {
   "codemirror_mode": {
    "name": "ipython",
    "version": 3
   },
   "file_extension": ".py",
   "mimetype": "text/x-python",
   "name": "python",
   "nbconvert_exporter": "python",
   "pygments_lexer": "ipython3",
   "version": "3.11.1"
  }
 },
 "nbformat": 4,
 "nbformat_minor": 5
}
