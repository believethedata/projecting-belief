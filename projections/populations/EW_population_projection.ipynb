{
 "cells": [
  {
   "cell_type": "markdown",
   "id": "b418aae2-5cb0-4d90-84f2-b2586b03ebf7",
   "metadata": {},
   "source": [
    "# Imports"
   ]
  },
  {
   "cell_type": "code",
   "execution_count": 1,
   "id": "b522a3fb-a0c3-4b58-bf0d-9f51da7bbb34",
   "metadata": {},
   "outputs": [],
   "source": [
    "import pandas as pd"
   ]
  },
  {
   "cell_type": "markdown",
   "id": "9f3769f6-21af-4f88-aa29-bc3cffcdb1a5",
   "metadata": {},
   "source": [
    "# Load data"
   ]
  },
  {
   "cell_type": "code",
   "execution_count": 2,
   "id": "0ac25a86-1ba9-4f7c-8bf7-f5827d3a6672",
   "metadata": {},
   "outputs": [],
   "source": [
    "df = pd.read_csv('../../processed_data/england_wales.csv')"
   ]
  },
  {
   "cell_type": "code",
   "execution_count": 3,
   "id": "5693af45-bebf-481d-89b9-27626337aa26",
   "metadata": {},
   "outputs": [],
   "source": [
    "ons = {}\n",
    "\n",
    "for country in ['EN', 'WA']:\n",
    "    ons[country] = pd.read_excel(f'../../raw_data/ew/ONS_population_projection_2022_{country}.xlsx', sheet_name='Population', usecols=range(12))\n",
    "    ons[country] = ons[country][ons[country]['Sex'].isin(['Females', 'Males'])]\n",
    "    ons[country] = ons[country].rename(columns={'Sex': 'sex', 'Age': 'age'})\n",
    "    ons[country]['sex'] = ons[country]['sex'].replace({'Females': 'female', 'Males': 'male'})\n",
    "    ons[country]['age'] = ons[country]['age'].replace({'105 - 109': '105', '110 and over': '110'})\n",
    "    ons[country]['age'] = ons[country]['age'].map(lambda x: '95+' if int(str(x)) > 94 else x)\n",
    "    ons[country] = ons[country].groupby(['sex', 'age']).sum()"
   ]
  },
  {
   "cell_type": "code",
   "execution_count": 4,
   "id": "91c1d6f2-1ee0-4eff-aa4d-035375e46b3d",
   "metadata": {},
   "outputs": [],
   "source": [
    "# ons['EN'].sum()"
   ]
  },
  {
   "cell_type": "code",
   "execution_count": 5,
   "id": "1b6c12fd-ac64-42da-972e-a935fc3a2de7",
   "metadata": {},
   "outputs": [],
   "source": [
    "# ons['WA'].sum()"
   ]
  },
  {
   "cell_type": "markdown",
   "id": "30d2e0c5-e8d8-4108-b167-ca7c1443c8dd",
   "metadata": {},
   "source": [
    "# Survival rate analysis"
   ]
  },
  {
   "cell_type": "code",
   "execution_count": 6,
   "id": "f9dfd4e5-5bd1-44fb-973f-1fe7a2e032d2",
   "metadata": {},
   "outputs": [],
   "source": [
    "sr = (\n",
    "    df[df['census_year'].isin([2011, 2021])]\n",
    "    .groupby(['sex', 'geo_code', 'yob', 'census_year'], observed=True)['population'].sum()\n",
    "    .unstack()\n",
    "    .dropna()\n",
    "    .reset_index()\n",
    ")"
   ]
  },
  {
   "cell_type": "code",
   "execution_count": 7,
   "id": "c589313f-ca13-44f0-848a-1fc7c19c547a",
   "metadata": {},
   "outputs": [],
   "source": [
    "yob_to_age_band_2011 = dict(df.loc[df['census_year'] == 2011, ['yob', 'age_band']].drop_duplicates().values)\n",
    "yob_to_age_band_2011['pre-1927'] = '85+'"
   ]
  },
  {
   "cell_type": "code",
   "execution_count": 8,
   "id": "af5ed070-760e-43f6-b675-60cfae303afb",
   "metadata": {},
   "outputs": [],
   "source": [
    "yob_to_age_band_2021 = dict(df.loc[df['census_year'] == 2021, ['yob', 'age_band']].drop_duplicates().values)\n",
    "yob_to_age_band_2021['pre-1927'] = '85+'\n",
    "yob_to_age_band_2021['1927-1931'] = '85+'\n",
    "yob_to_age_band_2021['1932-1936'] = '85+'"
   ]
  },
  {
   "cell_type": "code",
   "execution_count": 9,
   "id": "068710d8-1f23-4df3-81b0-9734b193e829",
   "metadata": {},
   "outputs": [],
   "source": [
    "sr['survival_rate'] = sr[2021] / sr[2011]"
   ]
  },
  {
   "cell_type": "code",
   "execution_count": 10,
   "id": "18af6a60-3130-41f0-9ff0-b102906b7915",
   "metadata": {},
   "outputs": [],
   "source": [
    "sr['age_band_2011'] = sr['yob'].map(yob_to_age_band_2011)\n",
    "sr['age_band_2021'] = sr['yob'].map(yob_to_age_band_2021)"
   ]
  },
  {
   "cell_type": "code",
   "execution_count": 11,
   "id": "4b41f016-197e-4fc5-9343-06e4f85b05bb",
   "metadata": {},
   "outputs": [],
   "source": [
    "survival_rates = sr[['sex', 'age_band_2011', 'geo_code', 'survival_rate']].set_index(['sex', 'age_band_2011', 'geo_code']).sort_index()\n",
    "\n",
    "assert survival_rates.index.duplicated().sum() == 0"
   ]
  },
  {
   "cell_type": "code",
   "execution_count": 12,
   "id": "070968b0-1d15-44a8-abd0-fc515b9e5398",
   "metadata": {},
   "outputs": [],
   "source": [
    "pops_2021 = df[df['census_year'] == 2021].groupby(['sex', 'yob', 'geo_code'], observed=True)['population'].sum().reset_index()"
   ]
  },
  {
   "cell_type": "code",
   "execution_count": 13,
   "id": "748afc6b-30bd-44f4-9b76-4c36a3162b40",
   "metadata": {},
   "outputs": [],
   "source": [
    "pops_2021['age_band_2021'] = pops_2021['yob'].map(yob_to_age_band_2021)\n",
    "pops_2021 = pops_2021.groupby(['sex', 'age_band_2021', 'geo_code'])['population'].sum().sort_index()\n",
    "\n",
    "assert survival_rates.index.equals(pops_2021.index)\n",
    "survival_rates.index = survival_rates.index.rename(pops_2021.index.names)"
   ]
  },
  {
   "cell_type": "markdown",
   "id": "85c4c7bb-b53a-4386-8aaf-5d1734df76bb",
   "metadata": {},
   "source": [
    "# Project 2021 age bands"
   ]
  },
  {
   "cell_type": "code",
   "execution_count": 14,
   "id": "2f8fa21f-472a-4a6f-a3e5-fdfacbd1c174",
   "metadata": {},
   "outputs": [],
   "source": [
    "dfs = []\n",
    "\n",
    "population_projections = survival_rates.join(pops_2021).rename(columns={'population': 'population_2021'}).reset_index()\n",
    "ages_2021 = ['0-4','5-9',\n",
    "             '10-14','15-19','20-24','25-29','30-34','35-39','40-44',\n",
    "             '45-49','50-54','55-59','60-64','65-69','70-74','75-79','80-84']\n",
    "\n",
    "for yr in range(2022,2032):\n",
    "    years_ahead = yr - 2021\n",
    "    population_projections['population'] = population_projections['population_2021'] * (population_projections['survival_rate'] ** (years_ahead / 10))\n",
    "    age_from_age_2021 = {a: f'{int(a.split(\"-\")[0]) + years_ahead}-{int(a.split(\"-\")[1]) + years_ahead}' for a in ages_2021}\n",
    "    age_from_age_2021['85+'] = f'{85 + years_ahead}+'\n",
    "    population_projections['age_band'] = population_projections['age_band_2021'].map(age_from_age_2021)\n",
    "    population_projections['year'] = yr\n",
    "    dfs.append(population_projections[['sex','geo_code','population','year','age_band']])\n",
    "\n",
    "population_projections = pd.concat(dfs)"
   ]
  },
  {
   "cell_type": "markdown",
   "id": "a4d22e88-9c25-49f8-9223-92395aa4b5c1",
   "metadata": {},
   "source": [
    "# New born projections"
   ]
  },
  {
   "cell_type": "code",
   "execution_count": 15,
   "id": "3136b769-8e29-4d83-b2eb-d672382d661c",
   "metadata": {},
   "outputs": [],
   "source": [
    "newborns = pops_2021.loc[:, '0-4', :]"
   ]
  },
  {
   "cell_type": "code",
   "execution_count": 16,
   "id": "dc54c3d3-90fb-4505-81c5-5994508a0375",
   "metadata": {},
   "outputs": [],
   "source": [
    "dfs = []\n",
    "\n",
    "for yr in range(2022,2032):\n",
    "    years_ahead = yr - 2021\n",
    "    age_band1 = f'0-{min(years_ahead, 5)-1}'\n",
    "    population1 = newborns * min(years_ahead, 5) / 5\n",
    "    df = population1.reset_index()\n",
    "    df['year'] = yr\n",
    "    df['age_band'] = age_band1\n",
    "    dfs.append(df)\n",
    "    if years_ahead > 5:\n",
    "        age_band2 = f'5-{min(years_ahead, 10)-1}'\n",
    "        population2 = newborns * (min(years_ahead, 10) - 5) / 5\n",
    "        df = population2.reset_index()\n",
    "        df['year'] = yr\n",
    "        df['age_band'] = age_band2\n",
    "        dfs.append(df)\n",
    "\n",
    "newborn_projections = pd.concat(dfs)"
   ]
  },
  {
   "cell_type": "markdown",
   "id": "05485d63-8de2-4a16-9386-53e679321265",
   "metadata": {},
   "source": [
    "# Combined basic projection"
   ]
  },
  {
   "cell_type": "code",
   "execution_count": 17,
   "id": "eba00eba-516a-4aa5-8162-860fc5e23adb",
   "metadata": {},
   "outputs": [],
   "source": [
    "combined = (\n",
    "    pd.concat([newborn_projections, population_projections])\n",
    "    .reset_index(drop=True)\n",
    "    .rename(columns={'population': 'basic_projection'})\n",
    ")"
   ]
  },
  {
   "cell_type": "code",
   "execution_count": 18,
   "id": "9252bfa4-92d6-4804-b8c6-2d8f55b76ad7",
   "metadata": {},
   "outputs": [],
   "source": [
    "combined['country'] = combined['geo_code'].str[0].map({'E': 'EN', 'W': 'WA'})"
   ]
  },
  {
   "cell_type": "markdown",
   "id": "97f8d771-094f-4068-88fc-2be193b69a6b",
   "metadata": {},
   "source": [
    "# Calculate ratios"
   ]
  },
  {
   "cell_type": "code",
   "execution_count": 19,
   "id": "a01c9023-b14d-46f7-b14e-02e5f897d747",
   "metadata": {},
   "outputs": [],
   "source": [
    "combined_totals = combined.groupby(['country', 'year', 'sex', 'age_band'])['basic_projection'].sum()"
   ]
  },
  {
   "cell_type": "code",
   "execution_count": 20,
   "id": "01c00fc8-6124-4f92-9d37-4fcbd842cf9f",
   "metadata": {},
   "outputs": [],
   "source": [
    "res = {}\n",
    "for country, year, sex, age_band in combined_totals.index:\n",
    "    lower = age_band.split('-')[0]\n",
    "    if '+' in age_band:\n",
    "        if int(lower[:2]) < 95:\n",
    "            lower = int(lower[:2])\n",
    "        ons_total = ons[country].loc[(sex, lower):(sex, '95+'), year].sum()\n",
    "    else:\n",
    "        lower = int(lower)\n",
    "        upper = int(age_band.split('-')[1])\n",
    "        ons_total = ons[country].loc[(sex, lower):(sex, upper), year].sum()\n",
    "    res[(country, year, sex, age_band)] = ons_total\n",
    "\n",
    "ons_totals = pd.Series(res).rename('ons_total')\n",
    "ons_totals.index.names = ['country', 'year', 'sex', 'age_band']"
   ]
  },
  {
   "cell_type": "code",
   "execution_count": 21,
   "id": "af8fcdf9-d415-425b-8033-1040745eaf1b",
   "metadata": {},
   "outputs": [],
   "source": [
    "assert combined_totals.index.equals(ons_totals.index)"
   ]
  },
  {
   "cell_type": "code",
   "execution_count": 22,
   "id": "214c2ba3-a942-4334-b390-a512dcf9951a",
   "metadata": {},
   "outputs": [],
   "source": [
    "forecast_ratios = pd.concat([combined_totals, ons_totals], axis='columns')"
   ]
  },
  {
   "cell_type": "code",
   "execution_count": 23,
   "id": "009c1c8c-a867-48c4-9ae2-2bbbb6694e00",
   "metadata": {},
   "outputs": [],
   "source": [
    "forecast_ratios['forecast_ratio'] = forecast_ratios['ons_total'] / forecast_ratios['basic_projection']"
   ]
  },
  {
   "cell_type": "markdown",
   "id": "ca469cd9-3b24-4ad4-9ff0-c65874221d50",
   "metadata": {},
   "source": [
    "# Apply ratios"
   ]
  },
  {
   "cell_type": "code",
   "execution_count": 24,
   "id": "ac6a00a2-1d88-4db1-86bd-d63cf385364a",
   "metadata": {},
   "outputs": [],
   "source": [
    "final = combined.join(forecast_ratios['forecast_ratio'], on=['country', 'year', 'sex', 'age_band'])"
   ]
  },
  {
   "cell_type": "code",
   "execution_count": 25,
   "id": "98704c87-dbe7-48ca-aaf9-03f7c9d43e07",
   "metadata": {},
   "outputs": [],
   "source": [
    "final['projection'] = final['basic_projection'] * final['forecast_ratio']"
   ]
  },
  {
   "cell_type": "code",
   "execution_count": 26,
   "id": "0d57a91c-79a0-4413-bb4f-684a0f5a1fd5",
   "metadata": {},
   "outputs": [],
   "source": [
    "for yr in final['year'].unique():\n",
    "    assert final.loc[final['year'] == yr, 'projection'].sum().round() == (ons['EN'][yr].sum() + ons['WA'][yr].sum())"
   ]
  },
  {
   "cell_type": "markdown",
   "id": "8791bed8-b6e8-4d84-9b35-d08655fc5003",
   "metadata": {},
   "source": [
    "# Write to CSV"
   ]
  },
  {
   "cell_type": "code",
   "execution_count": 27,
   "id": "e4002601-81fe-4f08-a748-b17bbc4a0f67",
   "metadata": {},
   "outputs": [],
   "source": [
    "output_cols = ['year', 'sex', 'age_band', 'geo_code', 'projection']\n",
    "final[output_cols].to_csv('ew_population_projection.csv', index=False)"
   ]
  },
  {
   "cell_type": "code",
   "execution_count": null,
   "id": "7399415c-8bea-4c09-a72c-edebb2941821",
   "metadata": {},
   "outputs": [],
   "source": []
  }
 ],
 "metadata": {
  "kernelspec": {
   "display_name": "Python 3 (ipykernel)",
   "language": "python",
   "name": "python3"
  },
  "language_info": {
   "codemirror_mode": {
    "name": "ipython",
    "version": 3
   },
   "file_extension": ".py",
   "mimetype": "text/x-python",
   "name": "python",
   "nbconvert_exporter": "python",
   "pygments_lexer": "ipython3",
   "version": "3.11.1"
  }
 },
 "nbformat": 4,
 "nbformat_minor": 5
}
