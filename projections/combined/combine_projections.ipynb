{
 "cells": [
  {
   "cell_type": "markdown",
   "id": "6ac9cb4a-c3e5-40ac-8032-77cbeea4e234",
   "metadata": {},
   "source": [
    "# Imports"
   ]
  },
  {
   "cell_type": "code",
   "execution_count": 1,
   "id": "750e06ae-8d7e-461f-bd2c-a237b8c3530c",
   "metadata": {},
   "outputs": [],
   "source": [
    "import pandas as pd\n",
    "import numpy as np"
   ]
  },
  {
   "cell_type": "code",
   "execution_count": 2,
   "id": "393d7b23-141a-42a4-8482-5da97e115f20",
   "metadata": {},
   "outputs": [],
   "source": [
    "pd.options.mode.chained_assignment = None"
   ]
  },
  {
   "cell_type": "markdown",
   "id": "c9e49cee-42c7-4bc5-b74d-4d4d8356753c",
   "metadata": {},
   "source": [
    "# Load data"
   ]
  },
  {
   "cell_type": "code",
   "execution_count": 3,
   "id": "2e3c214d-dd0b-4e38-81ca-7d5016229dc3",
   "metadata": {},
   "outputs": [],
   "source": [
    "ew_pop = pd.read_csv('../populations/ew_population_projection.csv')\n",
    "ew_pct = pd.read_csv('../percentages/ew_religious_mix_prediction.csv')\n",
    "\n",
    "ew_actual = pd.read_csv('../../processed_data/england_wales.csv')"
   ]
  },
  {
   "cell_type": "code",
   "execution_count": 4,
   "id": "627020b1-2c9e-447f-91f4-50b49e940de8",
   "metadata": {},
   "outputs": [],
   "source": [
    "sc_pop = pd.read_csv('../populations/sc_population_projection.csv')\n",
    "sc_pct = pd.read_csv('../percentages/sc_religious_mix_prediction.csv')\n",
    "\n",
    "sc_actual = pd.read_csv('../../processed_data/scotland.csv')"
   ]
  },
  {
   "cell_type": "code",
   "execution_count": 5,
   "id": "9b81bf0e-ee35-4462-a27e-3d0a1fd5c3cf",
   "metadata": {},
   "outputs": [],
   "source": [
    "ni_pop = pd.read_csv('../populations/ni_population_projection.csv')\n",
    "ni_pct = pd.read_csv('../percentages/ni_religious_mix_prediction.csv')\n",
    "\n",
    "ni_actual = pd.read_csv('../../processed_data/northern_ireland.csv')"
   ]
  },
  {
   "cell_type": "markdown",
   "id": "de60f75b-b6ff-454d-8e5a-360c1a4e7c15",
   "metadata": {},
   "source": [
    "# Combine data"
   ]
  },
  {
   "cell_type": "code",
   "execution_count": 6,
   "id": "3caff074-e5dc-4668-9c81-89cb4d4c7c9e",
   "metadata": {},
   "outputs": [],
   "source": [
    "ew_combined = pd.merge(ew_pop, ew_pct, validate='1:1')"
   ]
  },
  {
   "cell_type": "code",
   "execution_count": 7,
   "id": "a828a847-cb23-4fb2-9a11-18811c6d3a35",
   "metadata": {},
   "outputs": [],
   "source": [
    "sc_combined = pd.merge(sc_pop, sc_pct, validate='1:1')"
   ]
  },
  {
   "cell_type": "code",
   "execution_count": 8,
   "id": "083d396e-48c4-40be-b6dc-02149f8301a2",
   "metadata": {},
   "outputs": [],
   "source": [
    "ni_combined = pd.merge(ni_pop, ni_pct, validate='1:1')"
   ]
  },
  {
   "cell_type": "code",
   "execution_count": 9,
   "id": "6ea03f99-82a5-4ba3-a2d9-632e07963fa6",
   "metadata": {},
   "outputs": [],
   "source": [
    "index_cols = ['year', 'sex', 'age_band', 'geo_code']"
   ]
  },
  {
   "cell_type": "code",
   "execution_count": 10,
   "id": "eadc1b13-f9bb-4a2c-b45e-f80fd9b29dcd",
   "metadata": {},
   "outputs": [],
   "source": [
    "ew = ew_combined[index_cols].join(ew_combined[ew_combined.columns[5:]].multiply(ew_combined['projection'], axis='rows')).set_index(index_cols)\n",
    "# ew_religions = list(ew.columns)"
   ]
  },
  {
   "cell_type": "code",
   "execution_count": 11,
   "id": "5983254a-9c6e-412b-a10a-fed9982b9391",
   "metadata": {},
   "outputs": [],
   "source": [
    "sc = sc_combined[index_cols].join(sc_combined[sc_combined.columns[5:]].multiply(sc_combined['projection'], axis='rows')).set_index(index_cols)\n",
    "# sc_religions = list(sc.columns)"
   ]
  },
  {
   "cell_type": "code",
   "execution_count": 12,
   "id": "d7b902be-5177-48e8-85e4-79e4757927e5",
   "metadata": {},
   "outputs": [],
   "source": [
    "ni = ni_combined[index_cols].join(ni_combined[ni_combined.columns[5:]].multiply(ni_combined['projection'], axis='rows')).set_index(index_cols)\n",
    "# ni_religions = list(ni.columns)"
   ]
  },
  {
   "cell_type": "markdown",
   "id": "901c7aac-3f0a-4db2-bc9b-17d0355ace1e",
   "metadata": {},
   "source": [
    "## Add actuals"
   ]
  },
  {
   "cell_type": "code",
   "execution_count": 13,
   "id": "4b68561a-5a64-41bb-a104-08155886356c",
   "metadata": {},
   "outputs": [],
   "source": [
    "ew = pd.concat([ew, ew_actual.rename(columns={'census_year': 'year'}).groupby(['year', 'sex', 'age_band', 'geo_code', 'religion'])['population'].sum().unstack()]).sort_index()"
   ]
  },
  {
   "cell_type": "code",
   "execution_count": 14,
   "id": "ffbb842d-7b3a-4f2a-a827-53f50fa00967",
   "metadata": {},
   "outputs": [],
   "source": [
    "sc = pd.concat([sc, sc_actual.rename(columns={'census_year': 'year'}).replace({'religion': {'Pagan': 'Other religion'}}).groupby(['year', 'sex', 'age_band', 'geo_code', 'religion'])['population'].sum().unstack()]).sort_index()"
   ]
  },
  {
   "cell_type": "code",
   "execution_count": 15,
   "id": "10515d7b-0c42-41ba-aa0f-43419b3da81d",
   "metadata": {},
   "outputs": [],
   "source": [
    "ni = pd.concat([ni, ni_actual.rename(columns={'census_year': 'year'}).groupby(['year', 'sex', 'age_band', 'geo_code', 'religion'])['population'].sum().unstack()]).sort_index()"
   ]
  },
  {
   "cell_type": "markdown",
   "id": "9461dc50-10c2-4bc3-ab88-be852537227f",
   "metadata": {},
   "source": [
    "# Write to disk"
   ]
  },
  {
   "cell_type": "code",
   "execution_count": 16,
   "id": "f7944046-5b5d-4e0a-a9cf-227a90af6c0b",
   "metadata": {},
   "outputs": [],
   "source": [
    "ew.to_csv('england_wales_final.csv')\n",
    "sc.to_csv('scotland_final.csv')\n",
    "ni.to_csv('nothern_ireland_final.csv')"
   ]
  },
  {
   "cell_type": "code",
   "execution_count": null,
   "id": "c898fcc2-091a-4f73-b08a-1856c7fab238",
   "metadata": {},
   "outputs": [],
   "source": []
  }
 ],
 "metadata": {
  "kernelspec": {
   "display_name": "Python 3 (ipykernel)",
   "language": "python",
   "name": "python3"
  },
  "language_info": {
   "codemirror_mode": {
    "name": "ipython",
    "version": 3
   },
   "file_extension": ".py",
   "mimetype": "text/x-python",
   "name": "python",
   "nbconvert_exporter": "python",
   "pygments_lexer": "ipython3",
   "version": "3.11.1"
  }
 },
 "nbformat": 4,
 "nbformat_minor": 5
}
