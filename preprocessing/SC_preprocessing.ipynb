{
 "cells": [
  {
   "cell_type": "markdown",
   "id": "7bd31001-0bb6-408d-bfc1-5c5aaba738a2",
   "metadata": {},
   "source": [
    "# Imports"
   ]
  },
  {
   "cell_type": "code",
   "execution_count": 1,
   "id": "9189f716-8093-4743-ab51-246b57019387",
   "metadata": {},
   "outputs": [],
   "source": [
    "import pandas as pd\n",
    "import numpy as np"
   ]
  },
  {
   "cell_type": "markdown",
   "id": "ade07d8d-a5b5-4327-89c1-43b1f2ff70fc",
   "metadata": {},
   "source": [
    "# Load data"
   ]
  },
  {
   "cell_type": "markdown",
   "id": "15b7b600-e66e-4c8c-b7d0-f4ffd278d96b",
   "metadata": {},
   "source": [
    "## 2021"
   ]
  },
  {
   "cell_type": "code",
   "execution_count": 2,
   "id": "075de69d-0616-415f-96ba-7a5733cffa3a",
   "metadata": {},
   "outputs": [],
   "source": [
    "sc_2021 = pd.concat([\n",
    "    df.iloc[:, 1:].assign(ca=k, sex=(['female'] * 21) + (['male'] * 21))\n",
    "    for k, df in\n",
    "    pd.read_excel('../raw_data/sc/census_2022_sex_age_CA.xlsx',\n",
    "                  sheet_name=None,\n",
    "                  header=None,\n",
    "                  skiprows=34,\n",
    "                  skipfooter=5,\n",
    "                  usecols=range(2,16),\n",
    "                  index_col=0)\n",
    "    .items()\n",
    "]).dropna()\n",
    "\n",
    "sc_2021.columns = [\n",
    "    'Church of Scotland',\n",
    "    'Roman Catholic',\n",
    "    'Other Christian',\n",
    "    'Buddhist',\n",
    "    'Hindu',\n",
    "    'Jewish',\n",
    "    'Muslim',\n",
    "    'Sikh',\n",
    "    'Pagan',\n",
    "    'Other religion',\n",
    "    'No religion',\n",
    "    'Religion not stated',\n",
    "] + ['ca', 'sex']\n",
    "\n",
    "sc_2021.index = sc_2021.index.rename('age')\n",
    "\n",
    "sc_2021 = sc_2021.reset_index().melt(id_vars=['ca', 'age', 'sex'], var_name='religion')\n",
    "\n",
    "# sc_2021['ca_code'] = sc_2021['ca'].str.split('.').str[0]\n",
    "\n",
    "sc_2021['ca_name'] = sc_2021['ca'].str.split('.').str[1].str[1:]\n",
    "\n",
    "sc_2021 = sc_2021.drop(columns='ca')\n",
    "\n",
    "sc_2021 = sc_2021.loc[sc_2021['age'] != 'Total']"
   ]
  },
  {
   "cell_type": "markdown",
   "id": "af440a4a-0d5b-4717-a12e-9dda7f6fad28",
   "metadata": {},
   "source": [
    "## 2011"
   ]
  },
  {
   "cell_type": "code",
   "execution_count": 3,
   "id": "f90d2387-d9a9-44e9-a2c9-d072278a2803",
   "metadata": {},
   "outputs": [],
   "source": [
    "sc_2011 = pd.concat([\n",
    "    df.iloc[:, 1:].assign(ca=k, sex=(['male'] * 21) + (['female'] * 21))\n",
    "    for k, df in\n",
    "    pd.read_excel('../raw_data/sc/census_2011_sex_age_CA.xlsx',\n",
    "                  sheet_name=None,\n",
    "                  header=None,\n",
    "                  skiprows=35,\n",
    "                  skipfooter=2,\n",
    "                  usecols=range(2,15),\n",
    "                  index_col=0)\n",
    "    .items()\n",
    "]).dropna()\n",
    "\n",
    "sc_2011.columns = [\n",
    "    'Church of Scotland',\n",
    "    'Roman Catholic',\n",
    "    'Other Christian',\n",
    "    'Buddhist',\n",
    "    'Hindu',\n",
    "    'Jewish',\n",
    "    'Muslim',\n",
    "    'Sikh',\n",
    "    'Other religion',\n",
    "    'No religion',\n",
    "    'Religion not stated',\n",
    "] + ['ca', 'sex']\n",
    "\n",
    "sc_2011.index = sc_2011.index.rename('age')\n",
    "\n",
    "sc_2011 = sc_2011.reset_index().melt(id_vars=['ca', 'age', 'sex'], var_name='religion')\n",
    "\n",
    "# sc_2011['ca_code'] = sc_2011['ca'].str.split('.').str[0]\n",
    "\n",
    "sc_2011['ca_name'] = sc_2011['ca'].str.split('.').str[1].str[1:]\n",
    "\n",
    "sc_2011 = sc_2011.drop(columns='ca')\n",
    "\n",
    "sc_2011 = sc_2011.loc[sc_2011['age'] != 'Total']"
   ]
  },
  {
   "cell_type": "markdown",
   "id": "fd171033-3f34-4719-a5ce-59df8fa34455",
   "metadata": {},
   "source": [
    "# Join 2011 with 2021"
   ]
  },
  {
   "cell_type": "code",
   "execution_count": 4,
   "id": "d0dace7a-6ca6-442f-aa63-ea4cc44046d1",
   "metadata": {},
   "outputs": [],
   "source": [
    "master_df = pd.concat([sc_2011, sc_2021], keys=[2011, 2021]).reset_index(0).rename(columns={'level_0': 'census_year'}).reset_index(drop=True)"
   ]
  },
  {
   "cell_type": "markdown",
   "id": "d74398d5-1dfe-4e3e-a063-a813727f37c2",
   "metadata": {},
   "source": [
    "# Harmonise categories"
   ]
  },
  {
   "cell_type": "code",
   "execution_count": 5,
   "id": "dd4cc17a-2bd6-4729-9d5d-6d93dc03a79a",
   "metadata": {},
   "outputs": [],
   "source": [
    "master_df['age'] = master_df['age'].str.replace('to', '-').str.replace(' ', '').str.replace('andover', '+')"
   ]
  },
  {
   "cell_type": "code",
   "execution_count": 6,
   "id": "a9f9c818-7223-4baf-9f8f-cc00fa6ff4b6",
   "metadata": {},
   "outputs": [],
   "source": [
    "ca_map = {\n",
    "    'Argyll & Bute': 'Argyll and Bute',\n",
    "    'Edinburgh, City of': 'City of Edinburgh',\n",
    "    'Dumfries & Galloway': 'Dumfries and Galloway',\n",
    "    'Eilean Siar': 'Na h-Eileanan Siar',\n",
    "    'Perth & Kinross': 'Perth and Kinross'\n",
    "}\n",
    "\n",
    "master_df['ca_name'] = master_df['ca_name'].apply(lambda x: ca_map.get(x, x))"
   ]
  },
  {
   "cell_type": "code",
   "execution_count": 7,
   "id": "7c0fce6f-1d85-4fa7-a9f6-f3210c8a8cc1",
   "metadata": {},
   "outputs": [],
   "source": [
    "master_df['ca_name'] = pd.Categorical(\n",
    "    values=master_df['ca_name'],\n",
    "    categories=master_df['ca_name'].unique(),\n",
    ")"
   ]
  },
  {
   "cell_type": "code",
   "execution_count": 8,
   "id": "665faa97-5bff-46de-af52-bfb316c57a1c",
   "metadata": {},
   "outputs": [],
   "source": [
    "master_df['ca_code'] = master_df['ca_name'].cat.codes"
   ]
  },
  {
   "cell_type": "markdown",
   "id": "28813f7c-e62b-40fb-a2c4-d4d4372cb929",
   "metadata": {},
   "source": [
    "# Map age to 5 year buckets"
   ]
  },
  {
   "cell_type": "code",
   "execution_count": 9,
   "id": "16c66211-7507-4981-8175-756410a46ea8",
   "metadata": {},
   "outputs": [],
   "source": [
    "age_map = {'15': '15-19', '16-17': '15-19', '18-19': '15-19'}\n",
    "\n",
    "master_df['age_band'] = master_df['age'].apply(lambda x: age_map.get(x, x))"
   ]
  },
  {
   "cell_type": "markdown",
   "id": "dd74bb21-f648-451f-93f9-ffc6750fd364",
   "metadata": {},
   "source": [
    "# Calculate year of birth column"
   ]
  },
  {
   "cell_type": "code",
   "execution_count": 10,
   "id": "6b2aa774-cbc3-4dd7-ba91-a4c48908a6ac",
   "metadata": {},
   "outputs": [],
   "source": [
    "to_age = master_df['age_band'].str.split('[-+]', regex=True).str[1]\n",
    "to_age.loc[to_age == ''] = 120\n",
    "\n",
    "from_yob = master_df['census_year'] - to_age.astype(int)\n",
    "\n",
    "to_yob = master_df['census_year'] - master_df['age_band'].str.split('[-+]', regex=True).str[0].astype(int)\n",
    "\n",
    "yob = from_yob.astype(str).str.cat(to_yob.astype(str), '-')\n",
    "\n",
    "yob_map = {\n",
    "    '1891-1926': 'pre-1937',\n",
    "    '1891-1921': 'pre-1937',\n",
    "    '1901-1931': 'pre-1937',\n",
    "    '1922-1926': 'pre-1937',\n",
    "    '1927-1931': 'pre-1937',\n",
    "    '1901-1936': 'pre-1937',\n",
    "    '1932-1936': 'pre-1937',\n",
    "}\n",
    "\n",
    "master_df['yob'] = yob.apply(lambda x: yob_map.get(x, x))"
   ]
  },
  {
   "cell_type": "markdown",
   "id": "0df227cc-6c44-42f9-8568-bd886af296dc",
   "metadata": {},
   "source": [
    "# Standardize column names"
   ]
  },
  {
   "cell_type": "code",
   "execution_count": 11,
   "id": "bdd09c32-4708-45dd-9e4c-1c023b21c5b2",
   "metadata": {},
   "outputs": [],
   "source": [
    "master_df.rename(columns={'ca_code': 'geo_code', 'value': 'population', 'ca_name': 'geography'}, inplace=True)"
   ]
  },
  {
   "cell_type": "code",
   "execution_count": 12,
   "id": "da84443d-f193-40d2-8156-e428122f28cf",
   "metadata": {},
   "outputs": [
    {
     "data": {
      "text/plain": [
       "Index(['census_year', 'age', 'sex', 'religion', 'population', 'geography',\n",
       "       'geo_code', 'age_band', 'yob'],\n",
       "      dtype='object')"
      ]
     },
     "execution_count": 12,
     "metadata": {},
     "output_type": "execute_result"
    }
   ],
   "source": [
    "master_df.columns"
   ]
  },
  {
   "cell_type": "code",
   "execution_count": 13,
   "id": "83a8fc3c-8d1a-4583-9914-a1ee92ba5c66",
   "metadata": {},
   "outputs": [],
   "source": [
    "master_df = master_df[['census_year', 'geo_code', 'geography', 'sex', 'religion', 'age', 'age_band', 'yob', 'population']]"
   ]
  },
  {
   "cell_type": "markdown",
   "id": "696c308b-9faf-49b3-bd3c-b2e53e529917",
   "metadata": {},
   "source": [
    "# Geo code map"
   ]
  },
  {
   "cell_type": "code",
   "execution_count": 14,
   "id": "3df04909-bd21-4e85-8cee-6d0f89a74312",
   "metadata": {},
   "outputs": [],
   "source": [
    "geo_codes = {\n",
    "    'Clackmannanshire': 'S12000005',\n",
    "    'Dumfries and Galloway': 'S12000006',\n",
    "    'East Ayrshire': 'S12000008',\n",
    "    'East Lothian': 'S12000010',\n",
    "    'East Renfrewshire': 'S12000011',\n",
    "    'Na h-Eileanan Siar': 'S12000013',\n",
    "    'Falkirk': 'S12000014',\n",
    "    'Highland': 'S12000017',\n",
    "    'Inverclyde': 'S12000018',\n",
    "    'Midlothian': 'S12000019',\n",
    "    'Moray': 'S12000020',\n",
    "    'North Ayrshire': 'S12000021',\n",
    "    'Orkney Islands': 'S12000023',\n",
    "    'Scottish Borders': 'S12000026',\n",
    "    'Shetland Islands': 'S12000027',\n",
    "    'South Ayrshire': 'S12000028',\n",
    "    'South Lanarkshire': 'S12000029',\n",
    "    'Stirling': 'S12000030',\n",
    "    'Aberdeen City': 'S12000033',\n",
    "    'Aberdeenshire': 'S12000034',\n",
    "    'Argyll and Bute': 'S12000035',\n",
    "    'City of Edinburgh': 'S12000036',\n",
    "    'Renfrewshire': 'S12000038',\n",
    "    'West Dunbartonshire': 'S12000039',\n",
    "    'West Lothian': 'S12000040',\n",
    "    'Angus': 'S12000041',\n",
    "    'Dundee City': 'S12000042',\n",
    "    'East Dunbartonshire': 'S12000045',\n",
    "    'Fife': 'S12000047',\n",
    "    'Perth and Kinross': 'S12000048',\n",
    "    'Glasgow City': 'S12000049',\n",
    "    'North Lanarkshire': 'S12000050',\n",
    "}"
   ]
  },
  {
   "cell_type": "code",
   "execution_count": 15,
   "id": "16007c6d-3132-4704-aff7-c45175ec955b",
   "metadata": {},
   "outputs": [
    {
     "data": {
      "text/plain": [
       "0"
      ]
     },
     "execution_count": 15,
     "metadata": {},
     "output_type": "execute_result"
    }
   ],
   "source": [
    "master_df['geo_code'] = master_df['geography'].map(geo_codes)\n",
    "master_df['geo_code'].isna().sum()"
   ]
  },
  {
   "cell_type": "markdown",
   "id": "1d03b438-cf08-49d6-aca4-7904bef2066c",
   "metadata": {},
   "source": [
    "# Write to CSV"
   ]
  },
  {
   "cell_type": "code",
   "execution_count": 16,
   "id": "c1487d77-803b-43f3-a836-b1ae19118912",
   "metadata": {},
   "outputs": [],
   "source": [
    "master_df.to_csv('../processed_data/scotland.csv', index=False)"
   ]
  },
  {
   "cell_type": "code",
   "execution_count": null,
   "id": "8c28dfb9-33d9-4691-8343-960499093339",
   "metadata": {},
   "outputs": [],
   "source": []
  }
 ],
 "metadata": {
  "kernelspec": {
   "display_name": "Python 3 (ipykernel)",
   "language": "python",
   "name": "python3"
  },
  "language_info": {
   "codemirror_mode": {
    "name": "ipython",
    "version": 3
   },
   "file_extension": ".py",
   "mimetype": "text/x-python",
   "name": "python",
   "nbconvert_exporter": "python",
   "pygments_lexer": "ipython3",
   "version": "3.11.1"
  }
 },
 "nbformat": 4,
 "nbformat_minor": 5
}
