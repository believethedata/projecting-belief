{
 "cells": [
  {
   "cell_type": "markdown",
   "id": "b5e448b9-709a-4059-a449-f68ecb215895",
   "metadata": {},
   "source": [
    "# Imports"
   ]
  },
  {
   "cell_type": "code",
   "execution_count": 1,
   "id": "d2bf41ed-3a97-4379-a67d-9d392ca89646",
   "metadata": {},
   "outputs": [],
   "source": [
    "import pandas as pd\n",
    "import numpy as np"
   ]
  },
  {
   "cell_type": "markdown",
   "id": "0b4af428-de69-44a6-b7a4-15866e627936",
   "metadata": {},
   "source": [
    "# Load data"
   ]
  },
  {
   "cell_type": "markdown",
   "id": "22bb1cb9-6f07-4546-8064-bc6af8ee86bb",
   "metadata": {},
   "source": [
    "## 2001"
   ]
  },
  {
   "cell_type": "code",
   "execution_count": 2,
   "id": "59a347b9-77c2-4051-97a9-1e958c4d686c",
   "metadata": {},
   "outputs": [],
   "source": [
    "religions = ['Christian', 'Buddhist', 'Hindu', 'Jewish', 'Muslim', 'Sikh', 'Other religion', 'No religion', 'Religion not stated']\n",
    "\n",
    "sex = ['male', 'female']"
   ]
  },
  {
   "cell_type": "code",
   "execution_count": 3,
   "id": "8bb24a2a-d82c-4481-9b03-cc318e4c9ad4",
   "metadata": {},
   "outputs": [],
   "source": [
    "dfs = []\n",
    "skip = 9\n",
    "counter = 0\n",
    "for s in sex:\n",
    "    for r in religions:\n",
    "        skiprows = skip + (counter * 371)\n",
    "        df = pd.read_csv('../raw_data/ew/census_2001_ST149_religion_sex_5yrband.csv', skiprows=skiprows).iloc[:348]\n",
    "        df['sex'] = s\n",
    "        df['religion'] = r\n",
    "        dfs.append(df)\n",
    "        counter += 1\n",
    "\n",
    "df_result = pd.concat(dfs).reset_index(drop=True)"
   ]
  },
  {
   "cell_type": "code",
   "execution_count": 4,
   "id": "ac433381-e9e4-45c5-bb27-cf9ef23aafbc",
   "metadata": {},
   "outputs": [],
   "source": [
    "cols = list(df_result)\n",
    "cols[0:2] = ['geography', 'geo_code']\n",
    "df_result.columns = cols"
   ]
  },
  {
   "cell_type": "code",
   "execution_count": 5,
   "id": "0d338643-29b8-49bf-870a-06b4fe6ff779",
   "metadata": {},
   "outputs": [],
   "source": [
    "df_result.iloc[:, 2:-2] = df_result.iloc[:, 2:-2].astype(int)"
   ]
  },
  {
   "cell_type": "code",
   "execution_count": 6,
   "id": "7b3034db-69e8-4d82-89b5-77120724ba13",
   "metadata": {},
   "outputs": [],
   "source": [
    "df_2001 = df_result.melt(\n",
    "    id_vars=['geography', 'geo_code', 'sex', 'religion'],\n",
    "    var_name='age',\n",
    "    value_name='population'\n",
    ")"
   ]
  },
  {
   "cell_type": "code",
   "execution_count": 7,
   "id": "8faa1b79-440c-4ec2-a260-44af26850341",
   "metadata": {},
   "outputs": [],
   "source": [
    "df_2001['census_year'] = 2001"
   ]
  },
  {
   "cell_type": "code",
   "execution_count": 8,
   "id": "ef56e48b-ccd5-4eba-a51d-6d7c5788c6e8",
   "metadata": {},
   "outputs": [],
   "source": [
    "lower = (df_2001['age'].str.split().str[1].astype(int) // 5 * 5)\n",
    "upper = lower + 4\n",
    "df_2001['age_band'] = lower.astype(str).str.cat(upper.astype(str), '-').replace({'90-94': '90+'})\n",
    "df_2001['yob'] = (2001 - upper).astype(str).str.cat((2001 - lower).astype(str), '-')"
   ]
  },
  {
   "cell_type": "code",
   "execution_count": 9,
   "id": "93398f40-9e2b-4162-8ece-f31389ff7646",
   "metadata": {},
   "outputs": [],
   "source": [
    "df_2001['yob'] = df_2001['yob'].replace({\n",
    "    '1922-1926': 'pre-1927',\n",
    "    '1917-1921': 'pre-1927',\n",
    "    '1912-1916': 'pre-1927',\n",
    "    '1907-1911': 'pre-1927',\n",
    "})"
   ]
  },
  {
   "cell_type": "code",
   "execution_count": 10,
   "id": "daa27eb3-1ea1-4b93-a7a4-cab14669bcd1",
   "metadata": {},
   "outputs": [],
   "source": [
    "# df_2001[['yob', 'age_band']].value_counts()"
   ]
  },
  {
   "cell_type": "markdown",
   "id": "a8c3e43b-03c6-445e-929a-1800cbb80556",
   "metadata": {},
   "source": [
    "## 2011"
   ]
  },
  {
   "cell_type": "code",
   "execution_count": 11,
   "id": "00d9d838-b0e7-4c18-9911-9b24136fec93",
   "metadata": {},
   "outputs": [],
   "source": [
    "lda_2011 = pd.read_csv('../raw_data/ew/census_2011_localdistrictauthorities2015.csv')"
   ]
  },
  {
   "cell_type": "code",
   "execution_count": 12,
   "id": "b9bc613b-020f-4381-ba31-535416e433a5",
   "metadata": {},
   "outputs": [],
   "source": [
    "lda_2011 = lda_2011.melt(id_vars=lda_2011.columns[:3])\n",
    "\n",
    "lda_2011['sex'] = lda_2011['variable'].str.split('[:;]', regex=True).str[1].str.strip()\n",
    "\n",
    "lda_2011 = lda_2011.loc[lda_2011['sex'].isin(['Males', 'Females'])]\n",
    "\n",
    "lda_2011['religion'] = lda_2011['variable'].str.split('[:;]', regex=True).str[5].str.strip()"
   ]
  },
  {
   "cell_type": "code",
   "execution_count": 13,
   "id": "51b393b8-c4a7-4382-ad56-1efc3e2dbd10",
   "metadata": {},
   "outputs": [],
   "source": [
    "religions = ['Christian', 'Buddhist', 'Hindu', 'Jewish', 'Muslim', 'Sikh', 'Other religion', 'No religion', 'Religion not stated']"
   ]
  },
  {
   "cell_type": "code",
   "execution_count": 14,
   "id": "ebb7db1e-8b43-4194-b820-397f0a2cbaf5",
   "metadata": {},
   "outputs": [],
   "source": [
    "lda_2011 = lda_2011.loc[lda_2011['religion'].isin(religions)]\n",
    "\n",
    "lda_2011['age'] = lda_2011['variable'].str.split('[:;]', regex=True).str[3].str.strip().str[4:].str.replace(' to ', '-').str.replace(' and over', '+')\n",
    "\n",
    "lda_2011.drop(columns=['variable', 'date'], inplace=True)"
   ]
  },
  {
   "cell_type": "markdown",
   "id": "2d8fd063-5015-4d1d-8adc-7c529b76c552",
   "metadata": {},
   "source": [
    "## 2021"
   ]
  },
  {
   "cell_type": "code",
   "execution_count": 15,
   "id": "8290cb75-1200-491b-8c12-aab8ff54d30e",
   "metadata": {},
   "outputs": [],
   "source": [
    "ew_2021 = pd.read_excel('../raw_data/ew/census_2021_religionagesex.xlsx', sheet_name='Table 3', header=3)"
   ]
  },
  {
   "cell_type": "code",
   "execution_count": 16,
   "id": "67101daf-e665-40bf-9c63-424bb8e0ece4",
   "metadata": {},
   "outputs": [],
   "source": [
    "ew_2021 = ew_2021.melt(id_vars=ew_2021.columns[:3])"
   ]
  },
  {
   "cell_type": "code",
   "execution_count": 17,
   "id": "26d6b919-52b1-410e-b63a-0df7014ae48c",
   "metadata": {},
   "outputs": [],
   "source": [
    "ew_2021['sex'] = ew_2021['variable'].str.split().str[-1].str.strip()\n",
    "ew_2021['religion'] = ew_2021['variable'].str.rsplit(n=1).str[0]"
   ]
  },
  {
   "cell_type": "code",
   "execution_count": 18,
   "id": "e8e36622-fc75-4fb0-9726-bf4fa4bf61d4",
   "metadata": {},
   "outputs": [],
   "source": [
    "ew_2021.drop(columns=['variable'], inplace=True)"
   ]
  },
  {
   "cell_type": "markdown",
   "id": "29b76e46-bbd3-4c66-a573-d2f628b18113",
   "metadata": {},
   "source": [
    "## Impute missing values for censored data\n",
    "Compare local totals to England & Wales total and assign missing population equally by area."
   ]
  },
  {
   "cell_type": "code",
   "execution_count": 19,
   "id": "7162dadb-b5d4-4ec3-8b50-bdd24f7c4912",
   "metadata": {},
   "outputs": [],
   "source": [
    "grp_cols = ['Age', 'sex', 'religion']"
   ]
  },
  {
   "cell_type": "code",
   "execution_count": 20,
   "id": "bfed68bf-89d9-4980-b69f-93263b46f167",
   "metadata": {},
   "outputs": [],
   "source": [
    "total_pops = ew_2021[ew_2021['Geography Code'].str[:3] == 'K04'].set_index(grp_cols)['value'].apply(lambda x: 2 if x == 'c' else int(x)).rename('ew_total')"
   ]
  },
  {
   "cell_type": "code",
   "execution_count": 21,
   "id": "f60d743f-bc71-48a5-9044-9a36b17aea0c",
   "metadata": {},
   "outputs": [],
   "source": [
    "temp = ew_2021[ew_2021['Geography Code'].str[:3].isin(['E06', 'E07', 'E08', 'E09', 'W06'])].copy()\n",
    "temp['local_total'] = temp['value'].apply(lambda x: 0 if x == 'c' else int(x))\n",
    "temp['local_n_missing'] = temp['value'].apply(lambda x: True if x == 'c' else False)\n",
    "local_pops = temp.groupby(grp_cols)[['local_total', 'local_n_missing']].sum()"
   ]
  },
  {
   "cell_type": "code",
   "execution_count": 22,
   "id": "45198af3-1277-43b0-b279-95cc241070ce",
   "metadata": {},
   "outputs": [],
   "source": [
    "df_impute = local_pops.join(total_pops)\n",
    "df_impute['imputed'] = ((df_impute['ew_total'] - df_impute['local_total']) / df_impute['local_n_missing']).replace(np.inf, 0)"
   ]
  },
  {
   "cell_type": "code",
   "execution_count": 23,
   "id": "f7e3aede-dad3-42ec-a309-7a8a1e447c85",
   "metadata": {},
   "outputs": [],
   "source": [
    "ew_2021 = ew_2021.join(df_impute['imputed'], on=grp_cols)\n",
    "ew_2021.loc[ew_2021['value'] == 'c', 'value'] = ew_2021.loc[ew_2021['value'] == 'c', 'imputed']\n",
    "ew_2021.drop(columns='imputed', inplace=True)"
   ]
  },
  {
   "cell_type": "markdown",
   "id": "df83754a-75de-4edb-ad6b-9ded53dd6fec",
   "metadata": {},
   "source": [
    "#### Check population sum"
   ]
  },
  {
   "cell_type": "code",
   "execution_count": 24,
   "id": "d8289b79-5e25-46d6-a220-305f739264c8",
   "metadata": {},
   "outputs": [
    {
     "data": {
      "text/plain": [
       "59598403.99999197"
      ]
     },
     "execution_count": 24,
     "metadata": {},
     "output_type": "execute_result"
    }
   ],
   "source": [
    "ew_2021[ew_2021['Geography Code'].str[:3].isin(['E06', 'E07', 'E08', 'E09', 'W06'])]['value'].sum()"
   ]
  },
  {
   "cell_type": "code",
   "execution_count": 25,
   "id": "166fb99e-e247-481d-974e-ae5b81ae8882",
   "metadata": {},
   "outputs": [
    {
     "data": {
      "text/plain": [
       "59597470.07294832"
      ]
     },
     "execution_count": 25,
     "metadata": {},
     "output_type": "execute_result"
    }
   ],
   "source": [
    "ew_2021[ew_2021['Geography Code'].str[:3] == 'K04']['value'].sum()"
   ]
  },
  {
   "cell_type": "markdown",
   "id": "fe4f090a-ce83-4717-86f4-7d03baf61bed",
   "metadata": {},
   "source": [
    "#### Rename columns"
   ]
  },
  {
   "cell_type": "code",
   "execution_count": 26,
   "id": "b5b67e94-cd01-407c-99ce-82496f596bf9",
   "metadata": {},
   "outputs": [],
   "source": [
    "col_map = {\n",
    "    'Age': 'age',\n",
    "    'Geography Code': 'geography code',\n",
    "    'Geography Name': 'geography',\n",
    "}\n",
    "\n",
    "ew_2021 = ew_2021.rename(columns=lambda x: col_map.get(x, x))"
   ]
  },
  {
   "cell_type": "markdown",
   "id": "556838bf-5764-4d4f-be9e-838031709458",
   "metadata": {},
   "source": [
    "# Join 2011 and 2021 data"
   ]
  },
  {
   "cell_type": "code",
   "execution_count": 27,
   "id": "18f73871-65f4-44ea-8079-3afe39d4946c",
   "metadata": {},
   "outputs": [],
   "source": [
    "master_df = pd.concat([lda_2011, ew_2021], keys=[2011, 2021]).reset_index(0).rename(columns={'level_0': 'census_year'}).reset_index(drop=True)"
   ]
  },
  {
   "cell_type": "markdown",
   "id": "55b9e24d-586e-40ea-a52c-6fd2042282a4",
   "metadata": {},
   "source": [
    "### Check for geo codes present in one year but not the other"
   ]
  },
  {
   "cell_type": "code",
   "execution_count": 28,
   "id": "025ce09c-6de4-4fc8-89b3-2427ff8e88c6",
   "metadata": {},
   "outputs": [],
   "source": [
    "# gcs = {c for c in set(lda_2011['geography code']) - set(ew_2021['geography code']) if c[:2] == 'E0'}\n",
    "# master_df.loc[master_df['geography code'].isin(gcs), ['geography code', 'geography']].drop_duplicates()"
   ]
  },
  {
   "cell_type": "code",
   "execution_count": 29,
   "id": "19a453dd-930d-4679-85f9-6a8641df089d",
   "metadata": {},
   "outputs": [],
   "source": [
    "# gcs = {c for c in set(ew_2021['geography code']) - set(lda_2011['geography code']) if c[:2] == 'E0'}\n",
    "# master_df.loc[master_df['geography code'].isin(gcs), ['geography code', 'geography']].drop_duplicates()"
   ]
  },
  {
   "cell_type": "code",
   "execution_count": 30,
   "id": "5bead55f-9e35-4b3f-9201-3ae3797df22c",
   "metadata": {},
   "outputs": [],
   "source": [
    "# master_df[master_df['geography'].str.contains('Westminster')]\n",
    "# master_df[master_df['geography'].str.contains('Scilly')]"
   ]
  },
  {
   "cell_type": "markdown",
   "id": "9ffaf13f-bd8a-474e-82a6-32c7ee9980ee",
   "metadata": {},
   "source": [
    "### Map of those codes"
   ]
  },
  {
   "cell_type": "code",
   "execution_count": 31,
   "id": "c6889909-fa83-48a5-b71d-fb39fa183d3a",
   "metadata": {},
   "outputs": [],
   "source": [
    "gc_map = {\n",
    "    'E07000150': 'E06000061',\n",
    "    'E07000151': 'E06000062',\n",
    "    'E07000152': 'E06000061',\n",
    "    'E07000153': 'E06000061',\n",
    "    'E07000154': 'E06000062',\n",
    "    'E07000155': 'E06000062',\n",
    "    'E07000156': 'E06000061',\n",
    "    'E07000201': 'E07000245',\n",
    "    'E07000204': 'E07000245',\n",
    "    'E07000205': 'E07000244',\n",
    "    'E07000206': 'E07000244',\n",
    "    'E09000033': 'E09000033',\n",
    "    'E07000004': 'E06000060',\n",
    "    'E07000005': 'E06000060',\n",
    "    'E07000006': 'E06000060',\n",
    "    'E07000007': 'E06000060',\n",
    "    'E06000028': 'E06000058',\n",
    "    'E06000053': 'E06000053',\n",
    "    'E06000029': 'E06000058',\n",
    "    'E07000048': 'E06000058',\n",
    "    'E07000049': 'E06000059',\n",
    "    'E07000050': 'E06000059',\n",
    "    'E07000051': 'E06000059',\n",
    "    'E07000052': 'E06000059',\n",
    "    'E07000053': 'E06000059',\n",
    "    'E07000190': 'E07000246',\n",
    "    'E07000191': 'E07000246',\n",
    "    'E06000053': 'E06000052',\n",
    "    'E09000033': 'E09000001',\n",
    "}"
   ]
  },
  {
   "cell_type": "code",
   "execution_count": 32,
   "id": "035ce8bf-3028-4fad-8e91-41266ca73e9b",
   "metadata": {},
   "outputs": [],
   "source": [
    "master_df['geography code'] = master_df['geography code'].replace(gc_map)"
   ]
  },
  {
   "cell_type": "code",
   "execution_count": 33,
   "id": "135f6862-fe2f-4f19-831b-c8ea5079b706",
   "metadata": {},
   "outputs": [],
   "source": [
    "master_df = master_df.groupby(list(master_df.columns.drop('value')))['value'].sum().reset_index()"
   ]
  },
  {
   "cell_type": "markdown",
   "id": "b0a39ac3-f41d-4b06-af3c-a56f63e7f365",
   "metadata": {},
   "source": [
    "### Check that all low-level codes are present for both years"
   ]
  },
  {
   "cell_type": "code",
   "execution_count": 34,
   "id": "f45e7637-9a53-47f4-9a81-f0bd075e01be",
   "metadata": {},
   "outputs": [
    {
     "data": {
      "text/plain": [
       "{'E12000001',\n",
       " 'E12000002',\n",
       " 'E12000003',\n",
       " 'E12000004',\n",
       " 'E12000005',\n",
       " 'E12000006',\n",
       " 'E12000007',\n",
       " 'E12000008',\n",
       " 'E12000009',\n",
       " 'E92000001',\n",
       " 'K04000001',\n",
       " 'W92000004'}"
      ]
     },
     "execution_count": 34,
     "metadata": {},
     "output_type": "execute_result"
    }
   ],
   "source": [
    "not_shared = (\n",
    "    set(master_df.loc[master_df['census_year'] == 2011, 'geography code'].unique())\n",
    "    ^ set(master_df.loc[master_df['census_year'] == 2021, 'geography code'].unique())\n",
    ")\n",
    "\n",
    "not_shared"
   ]
  },
  {
   "cell_type": "code",
   "execution_count": 35,
   "id": "ff1a6079-e80c-4c62-8d74-4604ffed130d",
   "metadata": {},
   "outputs": [],
   "source": [
    "master_df = master_df[~master_df['geography code'].isin(not_shared)].reset_index(drop=True)"
   ]
  },
  {
   "cell_type": "code",
   "execution_count": 36,
   "id": "be2444d0-79f8-4c56-abac-9797e2415789",
   "metadata": {},
   "outputs": [
    {
     "data": {
      "text/plain": [
       "census_year\n",
       "2021    598122\n",
       "2011    131544\n",
       "Name: count, dtype: int64"
      ]
     },
     "execution_count": 36,
     "metadata": {},
     "output_type": "execute_result"
    }
   ],
   "source": [
    "master_df['census_year'].value_counts()"
   ]
  },
  {
   "cell_type": "markdown",
   "id": "206877a7-08c6-430a-8177-2a3f50dad467",
   "metadata": {},
   "source": [
    "# Map age to 5 year buckets"
   ]
  },
  {
   "cell_type": "code",
   "execution_count": 37,
   "id": "9a62d462-46fb-4244-841f-18d2213b470b",
   "metadata": {},
   "outputs": [
    {
     "data": {
      "text/plain": [
       "array(['0-4', '10-14', '15', '16-17', '18-19', '20-24', '25-29', '30-34',\n",
       "       '35-39', '40-44', '45-49', '5-7', '50-54', '55-59', '60-64',\n",
       "       '65-69', '70-74', '75-79', '8-9', '80-84', '85+', 0, 1, 2, 3, 4, 5,\n",
       "       6, 7, 8, 9, 10, 11, 12, 13, 14, 15, 16, 17, 18, 19, 20, 21, 22, 23,\n",
       "       24, 25, 26, 27, 28, 29, 30, 31, 32, 33, 34, 35, 36, 37, 38, 39, 40,\n",
       "       41, 42, 43, 44, 45, 46, 47, 48, 49, 50, 51, 52, 53, 54, 55, 56, 57,\n",
       "       58, 59, 60, 61, 62, 63, 64, 65, 66, 67, 68, 69, 70, 71, 72, 73, 74,\n",
       "       75, 76, 77, 78, 79, 80, 81, 82, 83, 84, 85, 86, 87, 88, 89, 90, 91,\n",
       "       92, 93, 94, 95, 96, 97, 98, 99, '100 and over'], dtype=object)"
      ]
     },
     "execution_count": 37,
     "metadata": {},
     "output_type": "execute_result"
    }
   ],
   "source": [
    "master_df['age'].unique()"
   ]
  },
  {
   "cell_type": "code",
   "execution_count": 38,
   "id": "83b109da-4c5b-4acb-ab5c-2605a92d997a",
   "metadata": {},
   "outputs": [],
   "source": [
    "master_df['age_band'] = master_df['age'].apply(lambda x: x if type(x) == str else f'{(x // 5) * 5}-{(x // 5) * 5 + 4}')"
   ]
  },
  {
   "cell_type": "code",
   "execution_count": 39,
   "id": "51cf9f20-0a53-426d-b0f7-3ec6dcfc0c94",
   "metadata": {},
   "outputs": [
    {
     "data": {
      "text/plain": [
       "array(['0-4', '10-14', '15', '16-17', '18-19', '20-24', '25-29', '30-34',\n",
       "       '35-39', '40-44', '45-49', '5-7', '50-54', '55-59', '60-64',\n",
       "       '65-69', '70-74', '75-79', '8-9', '80-84', '85+', '5-9', '15-19',\n",
       "       '85-89', '90-94', '95-99', '100 and over'], dtype=object)"
      ]
     },
     "execution_count": 39,
     "metadata": {},
     "output_type": "execute_result"
    }
   ],
   "source": [
    "master_df['age_band'].unique()"
   ]
  },
  {
   "cell_type": "code",
   "execution_count": 40,
   "id": "07107d63-1246-4a90-90e0-3f4cb826dd37",
   "metadata": {},
   "outputs": [],
   "source": [
    "ab_map = {\n",
    "    '5-7': '5-9',\n",
    "    '8-9': '5-9',\n",
    "    '15': '15-19',\n",
    "    '16-17': '15-19',\n",
    "    '18-19': '15-19',\n",
    "    '95-99': '95+',\n",
    "    '100 and over': '95+',\n",
    "}"
   ]
  },
  {
   "cell_type": "code",
   "execution_count": 41,
   "id": "fcfb0342-a326-460a-88eb-812014662ec8",
   "metadata": {},
   "outputs": [],
   "source": [
    "master_df['age_band'] = master_df['age_band'].replace(ab_map)"
   ]
  },
  {
   "cell_type": "code",
   "execution_count": 42,
   "id": "6d40caec-e395-4530-82ad-97978b064d5b",
   "metadata": {},
   "outputs": [
    {
     "data": {
      "text/plain": [
       "array(['0-4', '10-14', '15-19', '20-24', '25-29', '30-34', '35-39',\n",
       "       '40-44', '45-49', '5-9', '50-54', '55-59', '60-64', '65-69',\n",
       "       '70-74', '75-79', '80-84', '85+', '85-89', '90-94', '95+'],\n",
       "      dtype=object)"
      ]
     },
     "execution_count": 42,
     "metadata": {},
     "output_type": "execute_result"
    }
   ],
   "source": [
    "master_df['age_band'].unique()"
   ]
  },
  {
   "cell_type": "markdown",
   "id": "cd2efd65-6b3c-406d-a1b9-ba49d27807f8",
   "metadata": {},
   "source": [
    "# Calculate year of birth column"
   ]
  },
  {
   "cell_type": "code",
   "execution_count": 43,
   "id": "6e1c794e-06d1-42b3-8cfb-c2a7565527f2",
   "metadata": {},
   "outputs": [],
   "source": [
    "to_age = master_df['age_band'].str.split('[-+]', regex=True).str[1]\n",
    "to_age.loc[to_age == ''] = 120\n",
    "\n",
    "from_yob = master_df['census_year'] - to_age.astype(int)\n",
    "\n",
    "to_yob = master_df['census_year'] - master_df['age_band'].str.split('[-+]', regex=True).str[0].astype(int)\n",
    "\n",
    "yob = from_yob.astype(str).str.cat(to_yob.astype(str), '-')\n",
    "\n",
    "yob_map = {\n",
    "    '1891-1926': 'pre-1927',\n",
    "    '1901-1926': 'pre-1927',\n",
    "}\n",
    "\n",
    "master_df['yob'] = yob.apply(lambda x: yob_map.get(x, x))"
   ]
  },
  {
   "cell_type": "code",
   "execution_count": 44,
   "id": "0cf1caee-8315-489f-b570-7d7d7d251e46",
   "metadata": {},
   "outputs": [],
   "source": [
    "df_2001['census_year'] = 2001"
   ]
  },
  {
   "cell_type": "markdown",
   "id": "71ba20f3-5cf2-4e57-a58f-c385ee199520",
   "metadata": {},
   "source": [
    "# Map sex values"
   ]
  },
  {
   "cell_type": "code",
   "execution_count": 45,
   "id": "d7750df8-2a81-459a-9fb7-ad2457acd190",
   "metadata": {},
   "outputs": [],
   "source": [
    "master_df['sex'] = master_df['sex'].map({'Females': 'female', 'Males': 'male', 'Female': 'female', 'Male': 'male'})"
   ]
  },
  {
   "cell_type": "markdown",
   "id": "d420f747-24a1-4e7a-858f-4f940426fefc",
   "metadata": {},
   "source": [
    "# Standardize column names"
   ]
  },
  {
   "cell_type": "code",
   "execution_count": 46,
   "id": "df8f7edb-cba9-4ab8-ad1c-4f2871589d8d",
   "metadata": {},
   "outputs": [],
   "source": [
    "master_df.rename(columns={'geography code': 'geo_code', 'value': 'population'}, inplace=True)"
   ]
  },
  {
   "cell_type": "code",
   "execution_count": 47,
   "id": "b2e634b3-293b-4f7f-8286-6c82bcdb757a",
   "metadata": {},
   "outputs": [],
   "source": [
    "# master_df.columns"
   ]
  },
  {
   "cell_type": "code",
   "execution_count": 48,
   "id": "7a2967dc-f881-43c4-964c-1559b69f0467",
   "metadata": {},
   "outputs": [],
   "source": [
    "master_df = master_df[['census_year', 'geo_code', 'geography', 'sex', 'religion', 'age', 'age_band', 'yob', 'population']]"
   ]
  },
  {
   "cell_type": "markdown",
   "id": "973a6c09-287e-4373-ab93-9cd01915cb7c",
   "metadata": {},
   "source": [
    "# Join 2001 data"
   ]
  },
  {
   "cell_type": "code",
   "execution_count": 49,
   "id": "92cd5536-4a59-4718-8a3e-7df9e2a20db5",
   "metadata": {},
   "outputs": [],
   "source": [
    "df_2001['geo_code'] = df_2001['geo_code'].replace(gc_map)"
   ]
  },
  {
   "cell_type": "code",
   "execution_count": 50,
   "id": "31250e5e-9669-40ec-a124-06f21a7fe955",
   "metadata": {},
   "outputs": [
    {
     "data": {
      "text/plain": [
       "set()"
      ]
     },
     "execution_count": 50,
     "metadata": {},
     "output_type": "execute_result"
    }
   ],
   "source": [
    "set(df_2001['geo_code']) ^ set(master_df['geo_code'])"
   ]
  },
  {
   "cell_type": "code",
   "execution_count": 51,
   "id": "cad4c565-0b59-46cc-b7ac-22d6b6113da4",
   "metadata": {},
   "outputs": [],
   "source": [
    "master_df = pd.concat([master_df, df_2001])"
   ]
  },
  {
   "cell_type": "code",
   "execution_count": 52,
   "id": "ebd0d10b-27f5-48db-9d0a-260daf120077",
   "metadata": {},
   "outputs": [],
   "source": [
    "master_df['religion'] = master_df['religion'].replace({'Religion not stated': 'Not answered'})"
   ]
  },
  {
   "cell_type": "markdown",
   "id": "e61752ce-b8cf-4ce1-9e38-ab2f0793f293",
   "metadata": {},
   "source": [
    "# Write to disk"
   ]
  },
  {
   "cell_type": "code",
   "execution_count": 53,
   "id": "62dd800c-3661-4298-bbaf-c254a09d3363",
   "metadata": {},
   "outputs": [],
   "source": [
    "master_df.to_csv('../processed_data/england_wales.csv', index=False)"
   ]
  },
  {
   "cell_type": "code",
   "execution_count": null,
   "id": "e0fe4b7f-9f2e-4826-98d2-eb3ef2a214e2",
   "metadata": {},
   "outputs": [],
   "source": []
  }
 ],
 "metadata": {
  "kernelspec": {
   "display_name": "Python 3 (ipykernel)",
   "language": "python",
   "name": "python3"
  },
  "language_info": {
   "codemirror_mode": {
    "name": "ipython",
    "version": 3
   },
   "file_extension": ".py",
   "mimetype": "text/x-python",
   "name": "python",
   "nbconvert_exporter": "python",
   "pygments_lexer": "ipython3",
   "version": "3.11.1"
  }
 },
 "nbformat": 4,
 "nbformat_minor": 5
}
