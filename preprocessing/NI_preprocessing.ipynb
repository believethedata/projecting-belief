{
 "cells": [
  {
   "cell_type": "markdown",
   "id": "8f8d8753-2537-497a-9040-da5d453a9ce3",
   "metadata": {},
   "source": [
    "# Imports"
   ]
  },
  {
   "cell_type": "code",
   "execution_count": 1,
   "id": "ce3cf1d6-8689-45a2-a15d-a92d2413667e",
   "metadata": {},
   "outputs": [],
   "source": [
    "import string\n",
    "import pandas as pd\n",
    "import numpy as np"
   ]
  },
  {
   "cell_type": "markdown",
   "id": "ef72c48c-602a-43da-891d-37b530b6863d",
   "metadata": {},
   "source": [
    "# Load data"
   ]
  },
  {
   "cell_type": "markdown",
   "id": "9c438b86-cb94-4912-b480-7157a50af377",
   "metadata": {},
   "source": [
    "## 2011"
   ]
  },
  {
   "cell_type": "code",
   "execution_count": 2,
   "id": "b3c404ea-d334-4499-bad3-4acc7be605fc",
   "metadata": {},
   "outputs": [],
   "source": [
    "rownums = np.array([2,9,16,23,30,37,38,39,40,41,42,43,44,45,46,47,48,49,50])\n",
    "colnums = np.array([12,14,15,16,17,18,19,20,22,24,25,26,27,28,29,30]) - 1  # minus one because column 0 is used as the index\n",
    "\n",
    "religions = ['Catholic', 'Presbyterian', 'Church of Ireland', 'Methodist', 'Other Christian', 'Other religions', 'No religion', 'Not stated']\n",
    "col_index = pd.MultiIndex.from_product([['male', 'female'], religions])\n",
    "\n",
    "dfs = []\n",
    "for char in string.ascii_uppercase:\n",
    "    path = '../raw_data/ni/census_2011/DC2114NI_95' + (char * 2) + '.xlsx'\n",
    "    df = pd.read_excel(path, header=8, index_col=0).iloc[rownums, colnums]\n",
    "    df.columns = col_index\n",
    "    dfs.append(df)\n",
    "\n",
    "ni_2011 = pd.concat(dfs, keys=['95' + (char * 2) for char in string.ascii_uppercase])\n",
    "\n",
    "ni_2011 = ni_2011.stack(future_stack=True).stack().reset_index()\n",
    "ni_2011.columns = ['lgd_code', 'age', 'religion', 'sex', 'count']"
   ]
  },
  {
   "cell_type": "markdown",
   "id": "b7de7365-eb13-4812-bbeb-714f27cf6091",
   "metadata": {},
   "source": [
    "## 2021"
   ]
  },
  {
   "cell_type": "code",
   "execution_count": 3,
   "id": "a3796993-4dda-47fd-a7c7-a0418f213adc",
   "metadata": {},
   "outputs": [],
   "source": [
    "ni_2021 = pd.read_csv('../raw_data/ni/census_2021.csv').iloc[:, [0,1,3,5,7,8]]\n",
    "ni_2021.columns = ['lgd_code', 'lgd_name', 'religion', 'age', 'sex', 'count']"
   ]
  },
  {
   "cell_type": "markdown",
   "id": "92eb044c-4fea-4aea-915e-4c54003add54",
   "metadata": {},
   "source": [
    "# Harmonise categories"
   ]
  },
  {
   "cell_type": "code",
   "execution_count": 4,
   "id": "0b6f87de-8b15-4ebc-a633-e727da4e3c2a",
   "metadata": {},
   "outputs": [],
   "source": [
    "col_map = {\n",
    "    'Other religions ': 'Other religions',\n",
    "    'Religion not stated': 'Not stated',\n",
    "    'Methodist Church in Ireland': 'Methodist',\n",
    "    'Presbyterian Church in Ireland': 'Presbyterian',\n",
    "    'Other Christian (including Christian related)': 'Other Christian'\n",
    "} \n",
    "\n",
    "ni_2021['religion'] = ni_2021['religion'].map(lambda x: col_map.get(x, x))\n",
    "ni_2021['sex'] = ni_2021['sex'].map(str.lower)\n",
    "ni_2021['age'] = ni_2021['age'].str[:-6]\n",
    "\n",
    "age_map = dict(zip(ni_2011['age'].unique(), ni_2021['age'].unique()))\n",
    "lgd_map = dict(zip(ni_2011['lgd_code'].unique(), ni_2021['lgd_name'].unique()))\n",
    "\n",
    "ni_2011['age'] = ni_2011['age'].map(age_map)\n",
    "ni_2011['lgd_name'] = ni_2011['lgd_code'].map(lgd_map)"
   ]
  },
  {
   "cell_type": "markdown",
   "id": "be3992fc-d80a-42a3-b217-eab60c0494cf",
   "metadata": {},
   "source": [
    "# Join 2011 with 2021"
   ]
  },
  {
   "cell_type": "code",
   "execution_count": 5,
   "id": "983a30a8-6563-42d2-8ddb-c88cebf792da",
   "metadata": {},
   "outputs": [],
   "source": [
    "master_df = pd.concat([ni_2011, ni_2021], keys=[2011, 2021]).reset_index(0).rename(columns={'level_0': 'census_year'}).reset_index(drop=True)"
   ]
  },
  {
   "cell_type": "markdown",
   "id": "e17e9f69-b1b3-4133-bfbb-7650dd2736a9",
   "metadata": {},
   "source": [
    "# Calculate year of birth column"
   ]
  },
  {
   "cell_type": "code",
   "execution_count": 6,
   "id": "56555a6d-b29b-4513-8cd5-39e23fa99d2f",
   "metadata": {},
   "outputs": [],
   "source": [
    "to_age = master_df['age'].str.split('[-+]', regex=True).str[1]\n",
    "to_age.loc[to_age == ''] = 120\n",
    "\n",
    "from_yob = master_df['census_year'] - to_age.astype(int)\n",
    "\n",
    "to_yob = master_df['census_year'] - master_df['age'].str.split('[-+]', regex=True).str[0].astype(int)\n",
    "\n",
    "yob = from_yob.astype(str).str.cat(to_yob.astype(str), '-')\n",
    "\n",
    "yob_map = {\n",
    "    '1891-1921': 'pre-1932',\n",
    "    '1901-1931': 'pre-1932',\n",
    "    '1922-1926': 'pre-1932',\n",
    "    '1927-1931': 'pre-1932',\n",
    "}\n",
    "\n",
    "master_df['yob'] = yob.apply(lambda x: yob_map.get(x, x))"
   ]
  },
  {
   "cell_type": "markdown",
   "id": "ee077998-2c83-4a9d-af39-836de551f477",
   "metadata": {},
   "source": [
    "# Standardize column names"
   ]
  },
  {
   "cell_type": "code",
   "execution_count": 7,
   "id": "ea30ec03-6faa-4149-9d50-c1ac31661916",
   "metadata": {},
   "outputs": [],
   "source": [
    "master_df.rename(columns={'lgd_code': 'geo_code', 'count': 'population', 'lgd_name': 'geography', 'age': 'age_band'}, inplace=True)"
   ]
  },
  {
   "cell_type": "code",
   "execution_count": 8,
   "id": "a9dfeefc-d2a6-4d24-a564-bfdf40059a70",
   "metadata": {},
   "outputs": [],
   "source": [
    "# master_df.columns"
   ]
  },
  {
   "cell_type": "code",
   "execution_count": 9,
   "id": "cca24ce5-d638-4222-9b4c-db2dce50fc59",
   "metadata": {},
   "outputs": [],
   "source": [
    "master_df = master_df[['census_year', 'geo_code', 'geography', 'sex', 'religion', 'age_band', 'yob', 'population']]"
   ]
  },
  {
   "cell_type": "markdown",
   "id": "037b6fa7-4f57-4c80-9e33-5e0b88ad8c9d",
   "metadata": {},
   "source": [
    "# Write to CSV"
   ]
  },
  {
   "cell_type": "code",
   "execution_count": 10,
   "id": "c42938fb-f4fd-4d2d-bb33-24014180acd8",
   "metadata": {},
   "outputs": [],
   "source": [
    "master_df.to_csv('../processed_data/northern_ireland.csv', index=False)"
   ]
  },
  {
   "cell_type": "code",
   "execution_count": null,
   "id": "a25c4eda-707e-42b6-8060-543a515f6d56",
   "metadata": {},
   "outputs": [],
   "source": []
  }
 ],
 "metadata": {
  "kernelspec": {
   "display_name": "Python 3 (ipykernel)",
   "language": "python",
   "name": "python3"
  },
  "language_info": {
   "codemirror_mode": {
    "name": "ipython",
    "version": 3
   },
   "file_extension": ".py",
   "mimetype": "text/x-python",
   "name": "python",
   "nbconvert_exporter": "python",
   "pygments_lexer": "ipython3",
   "version": "3.11.1"
  }
 },
 "nbformat": 4,
 "nbformat_minor": 5
}
